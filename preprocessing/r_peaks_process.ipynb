{
  "nbformat": 4,
  "nbformat_minor": 0,
  "metadata": {
    "colab": {
      "provenance": []
    },
    "kernelspec": {
      "name": "python3",
      "display_name": "Python 3"
    },
    "language_info": {
      "name": "python"
    }
  },
  "cells": [
    {
      "cell_type": "markdown",
      "source": [
        "## Выделение QRS комплекса в записях"
      ],
      "metadata": {
        "id": "WJz3bZWobnbS"
      }
    },
    {
      "cell_type": "code",
      "execution_count": null,
      "metadata": {
        "id": "6crrzvImYm5Q"
      },
      "outputs": [],
      "source": [
        "%%capture\n",
        "!gdown 1gU56tHhpG5K7-AKBv8inJxRYLZAz1Gib\n",
        "!gdown 1Tr9yHkmfDvc_VuZQ6IJXeZ08x7YbyPP_\n",
        "\n",
        "!unzip ptbxl_full_signals.zip"
      ]
    },
    {
      "cell_type": "code",
      "source": [
        "!pip install neurokit2 biosppy"
      ],
      "metadata": {
        "id": "XZdEZToCbVnV"
      },
      "execution_count": null,
      "outputs": []
    },
    {
      "cell_type": "code",
      "source": [
        "import pandas as pd\n",
        "import numpy as np\n",
        "import matplotlib.pyplot as plt\n",
        "import neurokit2 as nk\n",
        "from tqdm import tqdm\n",
        "import os\n",
        "from scipy.signal import resample\n",
        "from biosppy.signals.ecg import christov_segmenter\n",
        "from IPython.display import clear_output\n",
        "\n",
        "from scipy import spatial\n",
        "from scipy.signal import savgol_filter"
      ],
      "metadata": {
        "id": "G_vMVaZLaEH3"
      },
      "execution_count": null,
      "outputs": []
    },
    {
      "cell_type": "code",
      "source": [
        "labels = pd.read_csv('/content/ptblx_full_signals.csv')\n",
        "labels['record_name'] = labels.filename_hr.apply(lambda x: x[-8:])\n",
        "\n",
        "labels = labels[['ecg_id', 'record_name', 'result_class']]\n",
        "new_labels = pd.DataFrame(columns=['record_name', 'result_class'])"
      ],
      "metadata": {
        "id": "8w9qvxdVbbT6"
      },
      "execution_count": null,
      "outputs": []
    },
    {
      "cell_type": "code",
      "source": [
        "!mkdir r_peaks\n",
        "!mkdir r_peaks/signals"
      ],
      "metadata": {
        "id": "OyaI9M_TeORu"
      },
      "execution_count": null,
      "outputs": []
    },
    {
      "cell_type": "code",
      "source": [
        "latest = []\n",
        "\n",
        "for ecg in tqdm(labels.ecg_id[24461:]):\n",
        "    name = labels.loc[labels.ecg_id==ecg].record_name.values[0]\n",
        "    data = np.load(f'ptbxl_full_signals/signals/{name}.npy')\n",
        "\n",
        "    data = np.apply_along_axis(lambda x: nk.ecg_clean(x, sampling_rate=500), axis=1, arr=data)\n",
        "\n",
        "    peaks = [nk.ecg_findpeaks(data[i])['ECG_R_Peaks'] for i in range(12)]\n",
        "    peaks_count = [(i, len(i)) for i in peaks]\n",
        "\n",
        "    peaks = max(peaks_count, key=lambda x: x[1])[0]\n",
        "    if len(peaks) < 2:\n",
        "        continue\n",
        "\n",
        "    signals = []\n",
        "    if name not in latest:\n",
        "        for count, i in enumerate(peaks):\n",
        "            if count == 0:\n",
        "                diff2 = abs(peaks[count + 1] - i)\n",
        "                x = 0\n",
        "                y = peaks[count + 1] - diff2 // 2\n",
        "            elif count == len(peaks)-1:\n",
        "                diff1 = abs(peaks[count - 1] - i)\n",
        "                x = peaks[count - 1] + diff1 // 2\n",
        "                y = 5000\n",
        "            else:\n",
        "                diff1 = abs(peaks[count - 1] - i)\n",
        "                diff2 = abs(peaks[count + 1]- i)\n",
        "                x = peaks[count - 1] + diff1 // 2\n",
        "                y = peaks[count + 1] - diff2 // 2\n",
        "\n",
        "            signal = resample(data[:, x:y], 500, axis=1)\n",
        "\n",
        "            signals.append(signal)\n",
        "\n",
        "        for i, signal in enumerate(signals):\n",
        "            new_labels.loc[len(new_labels.index)] = [f'{name}_{i}', labels[labels.ecg_id == ecg].result_class.values[0]]\n",
        "            np.save(f'r_peaks/signals/{name}_{i}.npy', signal)\n",
        "    else:\n",
        "        df = new_labels[new_labels.record_name.apply(lambda x: x[:8] == name)].copy()\n",
        "        df.result_class = [labels[labels.ecg_id == ecg].result_class.values[0]]*len(df)\n",
        "\n",
        "        new_labels = pd.concat([new_labels, df])\n",
        "\n",
        "    latest.append(name)"
      ],
      "metadata": {
        "colab": {
          "base_uri": "https://localhost:8080/"
        },
        "id": "1_UKmiMnb3lF",
        "outputId": "ee13bdb0-e02a-44c5-a96a-939f19d1ddf5"
      },
      "execution_count": null,
      "outputs": [
        {
          "output_type": "stream",
          "name": "stderr",
          "text": [
            "100%|██████████| 3396/3396 [20:36<00:00,  2.75it/s]\n"
          ]
        }
      ]
    },
    {
      "cell_type": "code",
      "source": [
        "new_labels.to_csv('r_peaks/labels.csv', index=False)"
      ],
      "metadata": {
        "id": "CzL7jzS7j6l0"
      },
      "execution_count": null,
      "outputs": []
    },
    {
      "cell_type": "code",
      "source": [
        "!zip -r r_peaks.zip r_peaks"
      ],
      "metadata": {
        "id": "FOGPVX3Vo7Ic"
      },
      "execution_count": null,
      "outputs": []
    },
    {
      "cell_type": "code",
      "source": [
        "from google.colab import drive\n",
        "drive.mount('/content/drive')\n",
        "\n",
        "!mv r_peaks.zip /content/drive/MyDrive/cardioScreen/data/"
      ],
      "metadata": {
        "colab": {
          "base_uri": "https://localhost:8080/"
        },
        "id": "Oqhyuzyaqaxp",
        "outputId": "c005c413-20cb-4507-959b-5e12161125e2"
      },
      "execution_count": null,
      "outputs": [
        {
          "output_type": "stream",
          "name": "stdout",
          "text": [
            "Mounted at /content/drive\n"
          ]
        }
      ]
    }
  ]
}