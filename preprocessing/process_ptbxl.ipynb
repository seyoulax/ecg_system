{
  "nbformat": 4,
  "nbformat_minor": 0,
  "metadata": {
    "colab": {
      "provenance": []
    },
    "kernelspec": {
      "name": "python3",
      "display_name": "Python 3"
    },
    "language_info": {
      "name": "python"
    }
  },
  "cells": [
    {
      "cell_type": "markdown",
      "source": [
        "### Файл обработки оригильного датасета"
      ],
      "metadata": {
        "id": "ekZ_jG0fbW_4"
      }
    },
    {
      "cell_type": "code",
      "source": [
        "%%capture\n",
        "!gdown 1AYZ3EM1toLX6_8Pq61i7rmEVz47l0tBn\n",
        "!pip install wfdb\n",
        "!unzip ptbxl"
      ],
      "metadata": {
        "id": "0JHX44dh_GsY"
      },
      "execution_count": null,
      "outputs": []
    },
    {
      "cell_type": "code",
      "execution_count": null,
      "metadata": {
        "id": "tlJTUs8l-0e0"
      },
      "outputs": [],
      "source": [
        "import numpy as np\n",
        "import pandas as pd\n",
        "import wfdb\n",
        "from tqdm import tqdm\n",
        "import warnings\n",
        "import ast\n",
        "from collections import Counter\n",
        "warnings.filterwarnings('ignore')"
      ]
    },
    {
      "cell_type": "code",
      "source": [
        "meta_data = pd.read_csv('ptbxl/ptbxl_database.csv')\n",
        "scp_codes = pd.read_csv('ptbxl/scp_statements.csv', index_col='Unnamed: 0')\n",
        "scp_codes['label'] = list(scp_codes.index)\n",
        "\n",
        "data = pd.DataFrame(columns=['filename_hr', 'ecg_id'])\n",
        "\n",
        "\n",
        "data.filename_hr = meta_data.filename_hr\n",
        "data.ecg_id = meta_data.ecg_id.apply(int)"
      ],
      "metadata": {
        "id": "yliVRAxqApto"
      },
      "execution_count": null,
      "outputs": []
    },
    {
      "cell_type": "code",
      "source": [
        "meta_data.scp_codes = meta_data.scp_codes.apply(lambda x: ast.literal_eval(x))"
      ],
      "metadata": {
        "id": "Gkg_JlF3CrSb"
      },
      "execution_count": null,
      "outputs": []
    },
    {
      "cell_type": "code",
      "source": [
        "scp_codes = scp_codes[scp_codes.diagnostic == 1]\n",
        "\n",
        "def aggregate_diagnostic(y_dic):\n",
        "    tmp = []\n",
        "    for key in y_dic.keys():\n",
        "        if key in scp_codes.index:\n",
        "            tmp.append(scp_codes.loc[key].label)\n",
        "    return list(set(tmp))\n",
        "\n",
        "data['result_class'] = meta_data.scp_codes.apply(aggregate_diagnostic)"
      ],
      "metadata": {
        "id": "vSuP6e2pEq_b"
      },
      "execution_count": null,
      "outputs": []
    },
    {
      "cell_type": "code",
      "source": [
        "classes = []\n",
        "for i in data.result_class:\n",
        "    classes += i\n",
        "\n",
        "classes = dict(Counter(classes))"
      ],
      "metadata": {
        "id": "oG2bj0uQnFaf"
      },
      "execution_count": null,
      "outputs": []
    },
    {
      "cell_type": "code",
      "source": [
        "ecg_ids = list(data.ecg_id)\n",
        "for ecg in tqdm(ecg_ids):\n",
        "    line = data[data.ecg_id==ecg].values.tolist()[0]\n",
        "    diags = data[data.ecg_id==ecg].result_class.values[0]\n",
        "    if len(diags) > 1:\n",
        "        for i in range(1, len(diags)):\n",
        "            new_value = line[:2]+[[diags[i]]]\n",
        "            new_value[1] = line[1]+21837\n",
        "\n",
        "            data.loc[data.ecg_id==ecg, 'result_class'] = [diags[0]]\n",
        "            new_value = {k:v for k, v in zip(data.columns, new_value)}\n",
        "            data = data.append(new_value, ignore_index=True)"
      ],
      "metadata": {
        "colab": {
          "base_uri": "https://localhost:8080/"
        },
        "id": "MsnLdZVBC2-z",
        "outputId": "a491fcad-d91e-4d77-8e7b-b5a1a1144be6"
      },
      "execution_count": null,
      "outputs": [
        {
          "output_type": "stream",
          "name": "stderr",
          "text": [
            "100%|██████████| 21799/21799 [00:40<00:00, 543.59it/s]\n"
          ]
        }
      ]
    },
    {
      "cell_type": "code",
      "source": [
        "data = data[data.result_class.apply(lambda x: len(x) != 0)]\n",
        "data.result_class = data.result_class.apply(lambda x: x[0] if type(x) == list else x)\n",
        "data = data[data.result_class.isin(list(classes.values()))]"
      ],
      "metadata": {
        "id": "mO1kDDBLxWTN"
      },
      "execution_count": null,
      "outputs": []
    },
    {
      "cell_type": "code",
      "source": [
        "label2idx = {k:list(classes.values()).index(k) for k in classes.values()}"
      ],
      "metadata": {
        "id": "AtMILYmv0JVu"
      },
      "execution_count": null,
      "outputs": []
    },
    {
      "cell_type": "code",
      "source": [
        "data.result_class = data.result_class.replace(label2idx)"
      ],
      "metadata": {
        "id": "NDxbgXJA08vn"
      },
      "execution_count": null,
      "outputs": []
    },
    {
      "cell_type": "code",
      "source": [
        "data.to_csv('ptblx_full_signals.csv', index=False)"
      ],
      "metadata": {
        "id": "jflQcvq3Xwgg"
      },
      "execution_count": null,
      "outputs": []
    },
    {
      "cell_type": "code",
      "source": [
        "!mkdir ptbxl_full_signals\n",
        "!mkdir ptbxl_full_signals/signals"
      ],
      "metadata": {
        "id": "i5sEG2aO7Lk6"
      },
      "execution_count": null,
      "outputs": []
    },
    {
      "cell_type": "code",
      "source": [
        "for i in tqdm(list(data.filename_hr)):\n",
        "    hr = wfdb.rdsamp('ptbxl/'+i)[0].T\n",
        "    np.save('ptbxl_full_signals/signals/'+i[-8:], hr)"
      ],
      "metadata": {
        "id": "ZmnrhOUi_Jjn",
        "colab": {
          "base_uri": "https://localhost:8080/"
        },
        "outputId": "cf58e88a-dcce-4db0-d722-ca44144fd74a"
      },
      "execution_count": null,
      "outputs": [
        {
          "output_type": "stream",
          "name": "stderr",
          "text": [
            "100%|██████████| 27857/27857 [03:18<00:00, 140.38it/s]\n"
          ]
        }
      ]
    },
    {
      "cell_type": "code",
      "source": [
        "!zip -r ptbxl_full_signals.zip ptbxl_full_signals"
      ],
      "metadata": {
        "id": "GjB7QuRY21vs"
      },
      "execution_count": null,
      "outputs": []
    },
    {
      "cell_type": "code",
      "source": [
        "from google.colab import drive\n",
        "drive.mount('/content/drive')"
      ],
      "metadata": {
        "colab": {
          "base_uri": "https://localhost:8080/"
        },
        "id": "6iv6Me314pXP",
        "outputId": "4db3a2be-9edb-4d6f-c19e-b68f085de2f0"
      },
      "execution_count": null,
      "outputs": [
        {
          "output_type": "stream",
          "name": "stdout",
          "text": [
            "Mounted at /content/drive\n"
          ]
        }
      ]
    },
    {
      "cell_type": "code",
      "source": [
        "!mv ptbxl_full_signals.zip /content/drive/MyDrive/cardioScreen/data/"
      ],
      "metadata": {
        "id": "JgxAc9aT48w7"
      },
      "execution_count": null,
      "outputs": []
    }
  ]
}