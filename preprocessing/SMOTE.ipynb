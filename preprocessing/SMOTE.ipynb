{
  "nbformat": 4,
  "nbformat_minor": 0,
  "metadata": {
    "colab": {
      "provenance": []
    },
    "kernelspec": {
      "name": "python3",
      "display_name": "Python 3"
    },
    "language_info": {
      "name": "python"
    }
  },
  "cells": [
    {
      "cell_type": "code",
      "source": [
        "!gdown 1Rt0I7Svrx77tFMCsNubEQ-cDY8hD-iCk"
      ],
      "metadata": {
        "id": "KPeFNXtycP95"
      },
      "execution_count": null,
      "outputs": []
    },
    {
      "cell_type": "code",
      "source": [
        "!unzip r_peaks.zip"
      ],
      "metadata": {
        "id": "L5uHmM9ncUYf"
      },
      "execution_count": null,
      "outputs": []
    },
    {
      "cell_type": "code",
      "source": [
        "import numpy as np\n",
        "import pandas as pd\n",
        "import matplotlib.pyplot as plt\n",
        "from IPython.display import clear_output\n",
        "from tqdm import tqdm"
      ],
      "metadata": {
        "id": "5g6TwN4DnnKg"
      },
      "execution_count": 20,
      "outputs": []
    },
    {
      "cell_type": "code",
      "source": [
        "labels = pd.read_csv('r_peaks/labels.csv')"
      ],
      "metadata": {
        "id": "MVBzeR1JnsK_"
      },
      "execution_count": 4,
      "outputs": []
    },
    {
      "cell_type": "code",
      "source": [
        "def euclidean_distance(matrix1, matrix2):\n",
        "    diff = matrix1 - matrix2\n",
        "    squared_diff = diff ** 2\n",
        "    sum_squared_diff = np.sum(squared_diff)\n",
        "    euclidean_dist = np.sqrt(sum_squared_diff)\n",
        "    return euclidean_dist\n",
        "\n",
        "def compare_matrix(name, matrixes):\n",
        "    target = matrixes[name]\n",
        "    buffer = {}\n",
        "    min_dist = float('inf')\n",
        "\n",
        "    for mat in matrixes:\n",
        "        if mat[:8] == target[:8]:\n",
        "            continue\n",
        "\n",
        "        dist = euclidean_distance(matrixes[mat], target)\n",
        "\n",
        "        if 0 < dist < min_dist:\n",
        "            buffer = {'name': mat, 'hr': matrixes[mat]}\n",
        "            min_dist = dist\n",
        "\n",
        "    return buffer"
      ],
      "metadata": {
        "id": "1dEOX4P4gaJa"
      },
      "execution_count": 30,
      "outputs": []
    },
    {
      "cell_type": "code",
      "source": [
        "counts = labels.groupby('result_class').count().reset_index()"
      ],
      "metadata": {
        "id": "elyZNdn9ubfw"
      },
      "execution_count": 35,
      "outputs": []
    },
    {
      "cell_type": "code",
      "source": [
        "be_in_same = []\n",
        "count = 0\n",
        "\n",
        "for clas in range(list(counts[counts.record_name < 25000].result_class)):\n",
        "    print('Class: ', clas)\n",
        "    names = labels[labels.result_class == clas].record_name\n",
        "    matrixes = {}\n",
        "\n",
        "    for name in tqdm(names):\n",
        "        hr = np.load(f'r_peaks/signals/{name}.npy')\n",
        "        matrixes[name] = hr\n",
        "\n",
        "    for name in tqdm(names):\n",
        "        same = compare_matrix(name, matrixes)\n",
        "\n",
        "        if (same['name'], name) in be_in_same:\n",
        "            continue\n",
        "\n",
        "        be_in_same.append((name, same['name']))\n",
        "\n",
        "        hr1 = np.load(f'r_peaks/signals/{name}.npy')\n",
        "        hr2 = same['data']\n",
        "        new = (hr1 + hr2) / 2\n",
        "\n",
        "        new_name = f\"{name.replace('_hr_', '_')}_aug_{same['name'].replace('_hr_', '_')}\"\n",
        "\n",
        "        np.save(f'r_peaks/signals/{new_name}.npy', new)\n",
        "        labels = pd.concat([labels, pd.DataFrame(data={'record_name': [new_name], 'myocard_type': [clas]})])\n",
        "\n",
        "    clear_output(wait=True)"
      ],
      "metadata": {
        "id": "S-3n7uU0rjfG"
      },
      "execution_count": null,
      "outputs": []
    },
    {
      "cell_type": "code",
      "source": [],
      "metadata": {
        "id": "2-85xC8wtECD"
      },
      "execution_count": null,
      "outputs": []
    }
  ]
}