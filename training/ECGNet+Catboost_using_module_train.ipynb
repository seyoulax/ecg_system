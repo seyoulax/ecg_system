{
 "nbformat": 4,
 "nbformat_minor": 0,
 "metadata": {
  "colab": {
   "provenance": [],
   "authorship_tag": "ABX9TyMQ7aYlX9Wp68pGuy1kqUhq"
  },
  "kernelspec": {
   "name": "python3",
   "display_name": "Python 3"
  },
  "language_info": {
   "name": "python"
  },
  "widgets": {
   "application/vnd.jupyter.widget-state+json": {
    "14e0d4c8c3ba44a1ae45f730ea2f84ba": {
     "model_module": "@jupyter-widgets/controls",
     "model_name": "HBoxModel",
     "model_module_version": "1.5.0",
     "state": {
      "_dom_classes": [],
      "_model_module": "@jupyter-widgets/controls",
      "_model_module_version": "1.5.0",
      "_model_name": "HBoxModel",
      "_view_count": null,
      "_view_module": "@jupyter-widgets/controls",
      "_view_module_version": "1.5.0",
      "_view_name": "HBoxView",
      "box_style": "",
      "children": [
       "IPY_MODEL_e0730668c4954850bf4285ed30d91b8f",
       "IPY_MODEL_f09bd5aec4eb4b3999104ffa7fc9c58e",
       "IPY_MODEL_7a91eb1dc4fb4f979e13a29522304d32"
      ],
      "layout": "IPY_MODEL_801f24543dc74918bf74ec64cd0b449f"
     }
    },
    "e0730668c4954850bf4285ed30d91b8f": {
     "model_module": "@jupyter-widgets/controls",
     "model_name": "HTMLModel",
     "model_module_version": "1.5.0",
     "state": {
      "_dom_classes": [],
      "_model_module": "@jupyter-widgets/controls",
      "_model_module_version": "1.5.0",
      "_model_name": "HTMLModel",
      "_view_count": null,
      "_view_module": "@jupyter-widgets/controls",
      "_view_module_version": "1.5.0",
      "_view_name": "HTMLView",
      "description": "",
      "description_tooltip": null,
      "layout": "IPY_MODEL_9b458146937a4b949b0be3e488eceaed",
      "placeholder": "​",
      "style": "IPY_MODEL_0064cc05ffde416e89d1a592d894cfcf",
      "value": "Epoch: 0. Train.  Loss: 0.4047 | f1_score: 0.6676:  43%"
     }
    },
    "f09bd5aec4eb4b3999104ffa7fc9c58e": {
     "model_module": "@jupyter-widgets/controls",
     "model_name": "FloatProgressModel",
     "model_module_version": "1.5.0",
     "state": {
      "_dom_classes": [],
      "_model_module": "@jupyter-widgets/controls",
      "_model_module_version": "1.5.0",
      "_model_name": "FloatProgressModel",
      "_view_count": null,
      "_view_module": "@jupyter-widgets/controls",
      "_view_module_version": "1.5.0",
      "_view_name": "ProgressView",
      "bar_style": "",
      "description": "",
      "description_tooltip": null,
      "layout": "IPY_MODEL_60fb1e363fb640dda9c9b96fc0de9cb9",
      "max": 130,
      "min": 0,
      "orientation": "horizontal",
      "style": "IPY_MODEL_47987f6565e4476bb4a43fd18fb076d7",
      "value": 56
     }
    },
    "7a91eb1dc4fb4f979e13a29522304d32": {
     "model_module": "@jupyter-widgets/controls",
     "model_name": "HTMLModel",
     "model_module_version": "1.5.0",
     "state": {
      "_dom_classes": [],
      "_model_module": "@jupyter-widgets/controls",
      "_model_module_version": "1.5.0",
      "_model_name": "HTMLModel",
      "_view_count": null,
      "_view_module": "@jupyter-widgets/controls",
      "_view_module_version": "1.5.0",
      "_view_name": "HTMLView",
      "description": "",
      "description_tooltip": null,
      "layout": "IPY_MODEL_66b6e653d2d74d0a84c5f88e917717f7",
      "placeholder": "​",
      "style": "IPY_MODEL_afebb352d6f44b11b893ee42e8043178",
      "value": " 56/130 [10:03&lt;14:37, 11.86s/it]"
     }
    },
    "801f24543dc74918bf74ec64cd0b449f": {
     "model_module": "@jupyter-widgets/base",
     "model_name": "LayoutModel",
     "model_module_version": "1.2.0",
     "state": {
      "_model_module": "@jupyter-widgets/base",
      "_model_module_version": "1.2.0",
      "_model_name": "LayoutModel",
      "_view_count": null,
      "_view_module": "@jupyter-widgets/base",
      "_view_module_version": "1.2.0",
      "_view_name": "LayoutView",
      "align_content": null,
      "align_items": null,
      "align_self": null,
      "border": null,
      "bottom": null,
      "display": null,
      "flex": null,
      "flex_flow": null,
      "grid_area": null,
      "grid_auto_columns": null,
      "grid_auto_flow": null,
      "grid_auto_rows": null,
      "grid_column": null,
      "grid_gap": null,
      "grid_row": null,
      "grid_template_areas": null,
      "grid_template_columns": null,
      "grid_template_rows": null,
      "height": null,
      "justify_content": null,
      "justify_items": null,
      "left": null,
      "margin": null,
      "max_height": null,
      "max_width": null,
      "min_height": null,
      "min_width": null,
      "object_fit": null,
      "object_position": null,
      "order": null,
      "overflow": null,
      "overflow_x": null,
      "overflow_y": null,
      "padding": null,
      "right": null,
      "top": null,
      "visibility": null,
      "width": null
     }
    },
    "9b458146937a4b949b0be3e488eceaed": {
     "model_module": "@jupyter-widgets/base",
     "model_name": "LayoutModel",
     "model_module_version": "1.2.0",
     "state": {
      "_model_module": "@jupyter-widgets/base",
      "_model_module_version": "1.2.0",
      "_model_name": "LayoutModel",
      "_view_count": null,
      "_view_module": "@jupyter-widgets/base",
      "_view_module_version": "1.2.0",
      "_view_name": "LayoutView",
      "align_content": null,
      "align_items": null,
      "align_self": null,
      "border": null,
      "bottom": null,
      "display": null,
      "flex": null,
      "flex_flow": null,
      "grid_area": null,
      "grid_auto_columns": null,
      "grid_auto_flow": null,
      "grid_auto_rows": null,
      "grid_column": null,
      "grid_gap": null,
      "grid_row": null,
      "grid_template_areas": null,
      "grid_template_columns": null,
      "grid_template_rows": null,
      "height": null,
      "justify_content": null,
      "justify_items": null,
      "left": null,
      "margin": null,
      "max_height": null,
      "max_width": null,
      "min_height": null,
      "min_width": null,
      "object_fit": null,
      "object_position": null,
      "order": null,
      "overflow": null,
      "overflow_x": null,
      "overflow_y": null,
      "padding": null,
      "right": null,
      "top": null,
      "visibility": null,
      "width": null
     }
    },
    "0064cc05ffde416e89d1a592d894cfcf": {
     "model_module": "@jupyter-widgets/controls",
     "model_name": "DescriptionStyleModel",
     "model_module_version": "1.5.0",
     "state": {
      "_model_module": "@jupyter-widgets/controls",
      "_model_module_version": "1.5.0",
      "_model_name": "DescriptionStyleModel",
      "_view_count": null,
      "_view_module": "@jupyter-widgets/base",
      "_view_module_version": "1.2.0",
      "_view_name": "StyleView",
      "description_width": ""
     }
    },
    "60fb1e363fb640dda9c9b96fc0de9cb9": {
     "model_module": "@jupyter-widgets/base",
     "model_name": "LayoutModel",
     "model_module_version": "1.2.0",
     "state": {
      "_model_module": "@jupyter-widgets/base",
      "_model_module_version": "1.2.0",
      "_model_name": "LayoutModel",
      "_view_count": null,
      "_view_module": "@jupyter-widgets/base",
      "_view_module_version": "1.2.0",
      "_view_name": "LayoutView",
      "align_content": null,
      "align_items": null,
      "align_self": null,
      "border": null,
      "bottom": null,
      "display": null,
      "flex": null,
      "flex_flow": null,
      "grid_area": null,
      "grid_auto_columns": null,
      "grid_auto_flow": null,
      "grid_auto_rows": null,
      "grid_column": null,
      "grid_gap": null,
      "grid_row": null,
      "grid_template_areas": null,
      "grid_template_columns": null,
      "grid_template_rows": null,
      "height": null,
      "justify_content": null,
      "justify_items": null,
      "left": null,
      "margin": null,
      "max_height": null,
      "max_width": null,
      "min_height": null,
      "min_width": null,
      "object_fit": null,
      "object_position": null,
      "order": null,
      "overflow": null,
      "overflow_x": null,
      "overflow_y": null,
      "padding": null,
      "right": null,
      "top": null,
      "visibility": null,
      "width": null
     }
    },
    "47987f6565e4476bb4a43fd18fb076d7": {
     "model_module": "@jupyter-widgets/controls",
     "model_name": "ProgressStyleModel",
     "model_module_version": "1.5.0",
     "state": {
      "_model_module": "@jupyter-widgets/controls",
      "_model_module_version": "1.5.0",
      "_model_name": "ProgressStyleModel",
      "_view_count": null,
      "_view_module": "@jupyter-widgets/base",
      "_view_module_version": "1.2.0",
      "_view_name": "StyleView",
      "bar_color": null,
      "description_width": ""
     }
    },
    "66b6e653d2d74d0a84c5f88e917717f7": {
     "model_module": "@jupyter-widgets/base",
     "model_name": "LayoutModel",
     "model_module_version": "1.2.0",
     "state": {
      "_model_module": "@jupyter-widgets/base",
      "_model_module_version": "1.2.0",
      "_model_name": "LayoutModel",
      "_view_count": null,
      "_view_module": "@jupyter-widgets/base",
      "_view_module_version": "1.2.0",
      "_view_name": "LayoutView",
      "align_content": null,
      "align_items": null,
      "align_self": null,
      "border": null,
      "bottom": null,
      "display": null,
      "flex": null,
      "flex_flow": null,
      "grid_area": null,
      "grid_auto_columns": null,
      "grid_auto_flow": null,
      "grid_auto_rows": null,
      "grid_column": null,
      "grid_gap": null,
      "grid_row": null,
      "grid_template_areas": null,
      "grid_template_columns": null,
      "grid_template_rows": null,
      "height": null,
      "justify_content": null,
      "justify_items": null,
      "left": null,
      "margin": null,
      "max_height": null,
      "max_width": null,
      "min_height": null,
      "min_width": null,
      "object_fit": null,
      "object_position": null,
      "order": null,
      "overflow": null,
      "overflow_x": null,
      "overflow_y": null,
      "padding": null,
      "right": null,
      "top": null,
      "visibility": null,
      "width": null
     }
    },
    "afebb352d6f44b11b893ee42e8043178": {
     "model_module": "@jupyter-widgets/controls",
     "model_name": "DescriptionStyleModel",
     "model_module_version": "1.5.0",
     "state": {
      "_model_module": "@jupyter-widgets/controls",
      "_model_module_version": "1.5.0",
      "_model_name": "DescriptionStyleModel",
      "_view_count": null,
      "_view_module": "@jupyter-widgets/base",
      "_view_module_version": "1.2.0",
      "_view_name": "StyleView",
      "description_width": ""
     }
    }
   }
  }
 },
 "cells": [
  {
   "cell_type": "markdown",
   "source": [
    "## Installing Dependecies"
   ],
   "metadata": {
    "id": "RMouFR72t-Zb"
   }
  },
  {
   "cell_type": "code",
   "execution_count": null,
   "metadata": {
    "id": "k7V9KrtAFrkJ"
   },
   "outputs": [],
   "source": [
    "!pip install -r requirements.txt"
   ]
  },
  {
   "cell_type": "markdown",
   "source": [
    "## loading pretrained model"
   ],
   "metadata": {
    "id": "OGvE-Az9uFnk"
   }
  },
  {
   "cell_type": "code",
   "source": [
    "#loading checkpoint\n",
    "!gdown 1-HJudsuzTOlVR0x5Mtcnhc0Xgf3Oq1M7"
   ],
   "metadata": {
    "colab": {
     "base_uri": "https://localhost:8080/"
    },
    "id": "C1k8EU6Vsohu",
    "executionInfo": {
     "status": "ok",
     "timestamp": 1712596431487,
     "user_tz": -180,
     "elapsed": 1977,
     "user": {
      "displayName": "Абубек Альджимаков",
      "userId": "06071230004583428080"
     }
    },
    "outputId": "509b119b-329b-40be-e8b7-531c66e12c8e"
   },
   "execution_count": 2,
   "outputs": [
    {
     "output_type": "stream",
     "name": "stdout",
     "text": [
      "Downloading...\n",
      "From (original): https://drive.google.com/uc?id=1-HJudsuzTOlVR0x5Mtcnhc0Xgf3Oq1M7\n",
      "From (redirected): https://drive.google.com/uc?id=1-HJudsuzTOlVR0x5Mtcnhc0Xgf3Oq1M7&confirm=t&uuid=ede3f7d8-d94d-46e2-afb0-ee44a4b1880e\n",
      "To: /content/score:0.9284939789227805.pth\n",
      "100% 172M/172M [00:01<00:00, 165MB/s]\n"
     ]
    }
   ]
  },
  {
   "cell_type": "markdown",
   "source": [
    "## loading dataset"
   ],
   "metadata": {
    "id": "y0KtfFHduH-m"
   }
  },
  {
   "cell_type": "code",
   "source": [
    "# loading custom ptb-dataset with 17 classes\n",
    "!gdown 1Rt0I7Svrx77tFMCsNubEQ-cDY8hD-iCk\n",
    "!gdown 1GWyzUaz_mOwYDbLuopjroIcfngjSJWkD\n",
    "!unzip r_peaks.zip"
   ],
   "metadata": {
    "id": "Hz8ZE3CkG1QR",
    "executionInfo": {
     "status": "ok",
     "timestamp": 1712596643495,
     "user_tz": -180,
     "elapsed": 211727,
     "user": {
      "displayName": "Абубек Альджимаков",
      "userId": "06071230004583428080"
     }
    }
   },
   "execution_count": 3,
   "outputs": []
  },
  {
   "cell_type": "code",
   "source": [
    "from catboost_worker import CatBoostModel, create_conf_interval_gbm\n",
    "from ecgnet_worker import ECGNetWorker, create_conf_interval_ecgnet\n",
    "from utils import *\n",
    "import pandas as pd"
   ],
   "metadata": {
    "id": "qYIGIEpRF7CA",
    "executionInfo": {
     "status": "ok",
     "timestamp": 1712597990131,
     "user_tz": -180,
     "elapsed": 8236,
     "user": {
      "displayName": "Абубек Альджимаков",
      "userId": "06071230004583428080"
     }
    }
   },
   "execution_count": 1,
   "outputs": []
  },
  {
   "cell_type": "markdown",
   "source": [
    "# creating ecgworker"
   ],
   "metadata": {
    "id": "ePaIRPGTuOct"
   }
  },
  {
   "cell_type": "code",
   "source": [
    "ecg_worker = ECGNetWorker(device=\"cpu\")"
   ],
   "metadata": {
    "id": "y158u9hdGdWp",
    "executionInfo": {
     "status": "ok",
     "timestamp": 1712597990132,
     "user_tz": -180,
     "elapsed": 3,
     "user": {
      "displayName": "Абубек Альджимаков",
      "userId": "06071230004583428080"
     }
    }
   },
   "execution_count": 2,
   "outputs": []
  },
  {
   "cell_type": "code",
   "source": [
    "labels = pd.read_csv(\"/content/train_val_labels.csv\")\n",
    "ecg_worker.evaluate_data_for_ovr(labels, target_class=12)"
   ],
   "metadata": {
    "colab": {
     "base_uri": "https://localhost:8080/"
    },
    "id": "nAR7deituba3",
    "executionInfo": {
     "status": "ok",
     "timestamp": 1712597993166,
     "user_tz": -180,
     "elapsed": 1291,
     "user": {
      "displayName": "Абубек Альджимаков",
      "userId": "06071230004583428080"
     }
    },
    "outputId": "d828d265-53a1-4165-83fc-1d29d89d54c5"
   },
   "execution_count": 3,
   "outputs": [
    {
     "output_type": "stream",
     "name": "stdout",
     "text": [
      "evaluate done\n"
     ]
    }
   ]
  },
  {
   "cell_type": "code",
   "source": [
    "ecg_worker.create_torch_dataset(ecg_path=\"/content/r_peaks/signals/\", splits=[0.8, 0.15, 0.05])"
   ],
   "metadata": {
    "colab": {
     "base_uri": "https://localhost:8080/"
    },
    "id": "enZfr6yXurlr",
    "executionInfo": {
     "status": "ok",
     "timestamp": 1712597993547,
     "user_tz": -180,
     "elapsed": 383,
     "user": {
      "displayName": "Абубек Альджимаков",
      "userId": "06071230004583428080"
     }
    },
    "outputId": "2a51fe68-5e28-453d-f9d6-8dfc3ae1ad43"
   },
   "execution_count": 4,
   "outputs": [
    {
     "output_type": "stream",
     "name": "stdout",
     "text": [
      "train set len: 8320, val set len: 1560\n"
     ]
    }
   ]
  },
  {
   "cell_type": "code",
   "source": [
    "\"\"\"\n",
    "params:\n",
    "\n",
    "- embedding_size: len of embedding(hidden dim)\n",
    "- dropout: (float is p, False is not to use it)\n",
    "- num_layers: (num hidden layers)\n",
    "\n",
    "\"\"\"\n",
    "\n",
    "params = {\n",
    "    \"embedding_size\": 370,\n",
    "    \"dropout\" : False,\n",
    "    \"num_layers\" : 3\n",
    "}\n",
    "\n",
    "ecg_worker.create_model(params)"
   ],
   "metadata": {
    "colab": {
     "base_uri": "https://localhost:8080/"
    },
    "id": "q0gHF8ZVvBbi",
    "executionInfo": {
     "status": "ok",
     "timestamp": 1712597159808,
     "user_tz": -180,
     "elapsed": 247,
     "user": {
      "displayName": "Абубек Альджимаков",
      "userId": "06071230004583428080"
     }
    },
    "outputId": "957b06f3-3fda-415a-abb9-05000b6eb589"
   },
   "execution_count": 20,
   "outputs": [
    {
     "output_type": "stream",
     "name": "stdout",
     "text": [
      "model succesfully build\n"
     ]
    }
   ]
  },
  {
   "cell_type": "code",
   "source": [
    "ecg_worker.train_model(n_epochs=1)"
   ],
   "metadata": {
    "colab": {
     "base_uri": "https://localhost:8080/",
     "height": 49,
     "referenced_widgets": [
      "14e0d4c8c3ba44a1ae45f730ea2f84ba",
      "e0730668c4954850bf4285ed30d91b8f",
      "f09bd5aec4eb4b3999104ffa7fc9c58e",
      "7a91eb1dc4fb4f979e13a29522304d32",
      "801f24543dc74918bf74ec64cd0b449f",
      "9b458146937a4b949b0be3e488eceaed",
      "0064cc05ffde416e89d1a592d894cfcf",
      "60fb1e363fb640dda9c9b96fc0de9cb9",
      "47987f6565e4476bb4a43fd18fb076d7",
      "66b6e653d2d74d0a84c5f88e917717f7",
      "afebb352d6f44b11b893ee42e8043178"
     ]
    },
    "id": "i-N5HRkQu61f",
    "outputId": "15a9d222-225a-4f04-8e00-bbb7ad7b6331"
   },
   "execution_count": null,
   "outputs": [
    {
     "output_type": "display_data",
     "data": {
      "text/plain": [
       "  0%|          | 0/130 [00:00<?, ?it/s]"
      ],
      "application/vnd.jupyter.widget-view+json": {
       "version_major": 2,
       "version_minor": 0,
       "model_id": "14e0d4c8c3ba44a1ae45f730ea2f84ba"
      }
     },
     "metadata": {}
    }
   ]
  },
  {
   "cell_type": "code",
   "source": [
    "ecg_worker.inference_model()"
   ],
   "metadata": {
    "id": "gEd2FRFYvvrP"
   },
   "execution_count": null,
   "outputs": []
  },
  {
   "cell_type": "markdown",
   "source": [
    "## loading ecgworker from checkpoint"
   ],
   "metadata": {
    "id": "SL2-ELO8uTdI"
   }
  },
  {
   "cell_type": "code",
   "source": [
    "ecg_worker.load_model(\"/content/score:0.9284939789227805.pth\", params={\"embedding_size\" : 370, \"dropout\" : False, \"num_layers\" : 3})"
   ],
   "metadata": {
    "id": "4korGkTRsz4u",
    "executionInfo": {
     "status": "ok",
     "timestamp": 1712597998855,
     "user_tz": -180,
     "elapsed": 1550,
     "user": {
      "displayName": "Абубек Альджимаков",
      "userId": "06071230004583428080"
     }
    }
   },
   "execution_count": 5,
   "outputs": []
  },
  {
   "cell_type": "markdown",
   "source": [
    "## creating confidence interval"
   ],
   "metadata": {
    "id": "GBsWD2d8y-_P"
   }
  },
  {
   "cell_type": "code",
   "source": [
    "mean, bounds = create_conf_interval_ecgnet(ecg_worker, \"f1_score\", 1000)\n",
    "print(f\"mean score: {mean}, lower bound: {bounds[0]}, upper bound: {bounds[1]}\")"
   ],
   "metadata": {
    "colab": {
     "base_uri": "https://localhost:8080/"
    },
    "id": "-Rp8H6KTy9s5",
    "executionInfo": {
     "status": "ok",
     "timestamp": 1712598158636,
     "user_tz": -180,
     "elapsed": 46377,
     "user": {
      "displayName": "Абубек Альджимаков",
      "userId": "06071230004583428080"
     }
    },
    "outputId": "61b285a3-1b4f-49bd-be6b-276d894d9726"
   },
   "execution_count": 6,
   "outputs": [
    {
     "output_type": "stream",
     "name": "stderr",
     "text": [
      "100%|██████████| 1000/1000 [00:00<00:00, 26786.80it/s]"
     ]
    },
    {
     "output_type": "stream",
     "name": "stdout",
     "text": [
      "mean score: 0.9675626204238921, lower bound: 0.9518304431599229, upper bound: 0.9807803468208093\n"
     ]
    },
    {
     "output_type": "stream",
     "name": "stderr",
     "text": [
      "\n"
     ]
    }
   ]
  },
  {
   "cell_type": "markdown",
   "source": [
    "# Creating dataset for catboost fitting"
   ],
   "metadata": {
    "id": "p2HBkb7BzjM4"
   }
  },
  {
   "cell_type": "code",
   "source": [
    "df = make_dataset(ecg_worker.model, ecg_worker.labels, root_path=\"/content/r_peaks/signals/\", device=\"cpu\", len_embeds=370, len_features=264, save_path=\"/content\")"
   ],
   "metadata": {
    "colab": {
     "base_uri": "https://localhost:8080/"
    },
    "id": "Jl0A2ApwzVXn",
    "executionInfo": {
     "status": "ok",
     "timestamp": 1712599144658,
     "user_tz": -180,
     "elapsed": 910313,
     "user": {
      "displayName": "Абубек Альджимаков",
      "userId": "06071230004583428080"
     }
    },
    "outputId": "1b30afd7-4231-41f1-8ea2-e7a571bb2855"
   },
   "execution_count": 7,
   "outputs": [
    {
     "output_type": "stream",
     "name": "stdout",
     "text": [
      "getting embeds\n"
     ]
    },
    {
     "output_type": "stream",
     "name": "stderr",
     "text": [
      "100%|██████████| 41/41 [08:59<00:00, 13.15s/it]\n"
     ]
    },
    {
     "output_type": "stream",
     "name": "stdout",
     "text": [
      "making dataset\n"
     ]
    },
    {
     "output_type": "stream",
     "name": "stderr",
     "text": [
      "100%|██████████| 10399/10399 [05:35<00:00, 30.97it/s]\n"
     ]
    }
   ]
  },
  {
   "cell_type": "code",
   "source": [
    "df.head(10)"
   ],
   "metadata": {
    "colab": {
     "base_uri": "https://localhost:8080/",
     "height": 392
    },
    "id": "GWjv3tlwzzJ6",
    "executionInfo": {
     "status": "ok",
     "timestamp": 1712599145531,
     "user_tz": -180,
     "elapsed": 7,
     "user": {
      "displayName": "Абубек Альджимаков",
      "userId": "06071230004583428080"
     }
    },
    "outputId": "acbf232e-ddcc-4172-dc75-8fc3c28aeb88"
   },
   "execution_count": 8,
   "outputs": [
    {
     "output_type": "execute_result",
     "data": {
      "text/plain": [
       "    target       f_0       f_1       f_2       f_3       f_4       f_5  \\\n",
       "1      1.0  0.007130  0.085201  0.007223  1.727795  5.618940  0.038274   \n",
       "2      1.0  0.000264  0.075248  0.005674  1.766583  5.816614  0.033901   \n",
       "3      1.0  0.000906  0.082294  0.006785  1.743166  5.886365  0.038649   \n",
       "4      1.0 -0.000355  0.076745  0.005901  1.778336  5.792177  0.034315   \n",
       "5      1.0 -0.000844  0.074410  0.005547  1.882930  5.898902  0.030272   \n",
       "6      1.0  0.004144  0.088000  0.007742  1.774749  5.684229  0.039525   \n",
       "7      1.0 -0.005503  0.081358  0.006602  1.700600  5.636077  0.037969   \n",
       "8      1.0  0.003364  0.078106  0.006101  2.123967  5.819364  0.024548   \n",
       "9      1.0  0.001711  0.085133  0.007259  1.674942  5.417973  0.039807   \n",
       "10     1.0 -0.007174  0.075812  0.005707  1.783382  5.594287  0.032320   \n",
       "\n",
       "         f_6       f_7       f_8  ...  e_360  e_361     e_362  e_363  e_364  \\\n",
       "1   0.049312  0.002008  0.000829  ...    0.0    0.0  1.484588    0.0    0.0   \n",
       "2   0.042595  0.001638  0.000634  ...    0.0    0.0  1.578388    0.0    0.0   \n",
       "3   0.047210  0.002176  0.000925  ...    0.0    0.0  1.400864    0.0    0.0   \n",
       "4   0.043155  0.001734  0.000686  ...    0.0    0.0  1.687698    0.0    0.0   \n",
       "5   0.039518  0.001680  0.000655  ...    0.0    0.0  1.639354    0.0    0.0   \n",
       "6   0.049584  0.002508  0.001104  ...    0.0    0.0  1.479142    0.0    0.0   \n",
       "7   0.047841  0.001917  0.000805  ...    0.0    0.0  1.505485    0.0    0.0   \n",
       "8   0.036774  0.001926  0.000772  ...    0.0    0.0  1.498494    0.0    0.0   \n",
       "9   0.050828  0.001988  0.000832  ...    0.0    0.0  1.412737    0.0    0.0   \n",
       "10  0.042511  0.001623  0.000633  ...    0.0    0.0  1.491568    0.0    0.0   \n",
       "\n",
       "    e_365  e_366     e_367  e_368  e_369  \n",
       "1     0.0    0.0  0.373570    0.0    0.0  \n",
       "2     0.0    0.0  0.342532    0.0    0.0  \n",
       "3     0.0    0.0  0.354679    0.0    0.0  \n",
       "4     0.0    0.0  0.311500    0.0    0.0  \n",
       "5     0.0    0.0  0.266376    0.0    0.0  \n",
       "6     0.0    0.0  0.340393    0.0    0.0  \n",
       "7     0.0    0.0  0.314118    0.0    0.0  \n",
       "8     0.0    0.0  0.334927    0.0    0.0  \n",
       "9     0.0    0.0  0.393913    0.0    0.0  \n",
       "10    0.0    0.0  0.254924    0.0    0.0  \n",
       "\n",
       "[10 rows x 635 columns]"
      ],
      "text/html": [
       "\n",
       "  <div id=\"df-12a966bf-923d-4447-917b-af49477841cd\" class=\"colab-df-container\">\n",
       "    <div>\n",
       "<style scoped>\n",
       "    .dataframe tbody tr th:only-of-type {\n",
       "        vertical-align: middle;\n",
       "    }\n",
       "\n",
       "    .dataframe tbody tr th {\n",
       "        vertical-align: top;\n",
       "    }\n",
       "\n",
       "    .dataframe thead th {\n",
       "        text-align: right;\n",
       "    }\n",
       "</style>\n",
       "<table border=\"1\" class=\"dataframe\">\n",
       "  <thead>\n",
       "    <tr style=\"text-align: right;\">\n",
       "      <th></th>\n",
       "      <th>target</th>\n",
       "      <th>f_0</th>\n",
       "      <th>f_1</th>\n",
       "      <th>f_2</th>\n",
       "      <th>f_3</th>\n",
       "      <th>f_4</th>\n",
       "      <th>f_5</th>\n",
       "      <th>f_6</th>\n",
       "      <th>f_7</th>\n",
       "      <th>f_8</th>\n",
       "      <th>...</th>\n",
       "      <th>e_360</th>\n",
       "      <th>e_361</th>\n",
       "      <th>e_362</th>\n",
       "      <th>e_363</th>\n",
       "      <th>e_364</th>\n",
       "      <th>e_365</th>\n",
       "      <th>e_366</th>\n",
       "      <th>e_367</th>\n",
       "      <th>e_368</th>\n",
       "      <th>e_369</th>\n",
       "    </tr>\n",
       "  </thead>\n",
       "  <tbody>\n",
       "    <tr>\n",
       "      <th>1</th>\n",
       "      <td>1.0</td>\n",
       "      <td>0.007130</td>\n",
       "      <td>0.085201</td>\n",
       "      <td>0.007223</td>\n",
       "      <td>1.727795</td>\n",
       "      <td>5.618940</td>\n",
       "      <td>0.038274</td>\n",
       "      <td>0.049312</td>\n",
       "      <td>0.002008</td>\n",
       "      <td>0.000829</td>\n",
       "      <td>...</td>\n",
       "      <td>0.0</td>\n",
       "      <td>0.0</td>\n",
       "      <td>1.484588</td>\n",
       "      <td>0.0</td>\n",
       "      <td>0.0</td>\n",
       "      <td>0.0</td>\n",
       "      <td>0.0</td>\n",
       "      <td>0.373570</td>\n",
       "      <td>0.0</td>\n",
       "      <td>0.0</td>\n",
       "    </tr>\n",
       "    <tr>\n",
       "      <th>2</th>\n",
       "      <td>1.0</td>\n",
       "      <td>0.000264</td>\n",
       "      <td>0.075248</td>\n",
       "      <td>0.005674</td>\n",
       "      <td>1.766583</td>\n",
       "      <td>5.816614</td>\n",
       "      <td>0.033901</td>\n",
       "      <td>0.042595</td>\n",
       "      <td>0.001638</td>\n",
       "      <td>0.000634</td>\n",
       "      <td>...</td>\n",
       "      <td>0.0</td>\n",
       "      <td>0.0</td>\n",
       "      <td>1.578388</td>\n",
       "      <td>0.0</td>\n",
       "      <td>0.0</td>\n",
       "      <td>0.0</td>\n",
       "      <td>0.0</td>\n",
       "      <td>0.342532</td>\n",
       "      <td>0.0</td>\n",
       "      <td>0.0</td>\n",
       "    </tr>\n",
       "    <tr>\n",
       "      <th>3</th>\n",
       "      <td>1.0</td>\n",
       "      <td>0.000906</td>\n",
       "      <td>0.082294</td>\n",
       "      <td>0.006785</td>\n",
       "      <td>1.743166</td>\n",
       "      <td>5.886365</td>\n",
       "      <td>0.038649</td>\n",
       "      <td>0.047210</td>\n",
       "      <td>0.002176</td>\n",
       "      <td>0.000925</td>\n",
       "      <td>...</td>\n",
       "      <td>0.0</td>\n",
       "      <td>0.0</td>\n",
       "      <td>1.400864</td>\n",
       "      <td>0.0</td>\n",
       "      <td>0.0</td>\n",
       "      <td>0.0</td>\n",
       "      <td>0.0</td>\n",
       "      <td>0.354679</td>\n",
       "      <td>0.0</td>\n",
       "      <td>0.0</td>\n",
       "    </tr>\n",
       "    <tr>\n",
       "      <th>4</th>\n",
       "      <td>1.0</td>\n",
       "      <td>-0.000355</td>\n",
       "      <td>0.076745</td>\n",
       "      <td>0.005901</td>\n",
       "      <td>1.778336</td>\n",
       "      <td>5.792177</td>\n",
       "      <td>0.034315</td>\n",
       "      <td>0.043155</td>\n",
       "      <td>0.001734</td>\n",
       "      <td>0.000686</td>\n",
       "      <td>...</td>\n",
       "      <td>0.0</td>\n",
       "      <td>0.0</td>\n",
       "      <td>1.687698</td>\n",
       "      <td>0.0</td>\n",
       "      <td>0.0</td>\n",
       "      <td>0.0</td>\n",
       "      <td>0.0</td>\n",
       "      <td>0.311500</td>\n",
       "      <td>0.0</td>\n",
       "      <td>0.0</td>\n",
       "    </tr>\n",
       "    <tr>\n",
       "      <th>5</th>\n",
       "      <td>1.0</td>\n",
       "      <td>-0.000844</td>\n",
       "      <td>0.074410</td>\n",
       "      <td>0.005547</td>\n",
       "      <td>1.882930</td>\n",
       "      <td>5.898902</td>\n",
       "      <td>0.030272</td>\n",
       "      <td>0.039518</td>\n",
       "      <td>0.001680</td>\n",
       "      <td>0.000655</td>\n",
       "      <td>...</td>\n",
       "      <td>0.0</td>\n",
       "      <td>0.0</td>\n",
       "      <td>1.639354</td>\n",
       "      <td>0.0</td>\n",
       "      <td>0.0</td>\n",
       "      <td>0.0</td>\n",
       "      <td>0.0</td>\n",
       "      <td>0.266376</td>\n",
       "      <td>0.0</td>\n",
       "      <td>0.0</td>\n",
       "    </tr>\n",
       "    <tr>\n",
       "      <th>6</th>\n",
       "      <td>1.0</td>\n",
       "      <td>0.004144</td>\n",
       "      <td>0.088000</td>\n",
       "      <td>0.007742</td>\n",
       "      <td>1.774749</td>\n",
       "      <td>5.684229</td>\n",
       "      <td>0.039525</td>\n",
       "      <td>0.049584</td>\n",
       "      <td>0.002508</td>\n",
       "      <td>0.001104</td>\n",
       "      <td>...</td>\n",
       "      <td>0.0</td>\n",
       "      <td>0.0</td>\n",
       "      <td>1.479142</td>\n",
       "      <td>0.0</td>\n",
       "      <td>0.0</td>\n",
       "      <td>0.0</td>\n",
       "      <td>0.0</td>\n",
       "      <td>0.340393</td>\n",
       "      <td>0.0</td>\n",
       "      <td>0.0</td>\n",
       "    </tr>\n",
       "    <tr>\n",
       "      <th>7</th>\n",
       "      <td>1.0</td>\n",
       "      <td>-0.005503</td>\n",
       "      <td>0.081358</td>\n",
       "      <td>0.006602</td>\n",
       "      <td>1.700600</td>\n",
       "      <td>5.636077</td>\n",
       "      <td>0.037969</td>\n",
       "      <td>0.047841</td>\n",
       "      <td>0.001917</td>\n",
       "      <td>0.000805</td>\n",
       "      <td>...</td>\n",
       "      <td>0.0</td>\n",
       "      <td>0.0</td>\n",
       "      <td>1.505485</td>\n",
       "      <td>0.0</td>\n",
       "      <td>0.0</td>\n",
       "      <td>0.0</td>\n",
       "      <td>0.0</td>\n",
       "      <td>0.314118</td>\n",
       "      <td>0.0</td>\n",
       "      <td>0.0</td>\n",
       "    </tr>\n",
       "    <tr>\n",
       "      <th>8</th>\n",
       "      <td>1.0</td>\n",
       "      <td>0.003364</td>\n",
       "      <td>0.078106</td>\n",
       "      <td>0.006101</td>\n",
       "      <td>2.123967</td>\n",
       "      <td>5.819364</td>\n",
       "      <td>0.024548</td>\n",
       "      <td>0.036774</td>\n",
       "      <td>0.001926</td>\n",
       "      <td>0.000772</td>\n",
       "      <td>...</td>\n",
       "      <td>0.0</td>\n",
       "      <td>0.0</td>\n",
       "      <td>1.498494</td>\n",
       "      <td>0.0</td>\n",
       "      <td>0.0</td>\n",
       "      <td>0.0</td>\n",
       "      <td>0.0</td>\n",
       "      <td>0.334927</td>\n",
       "      <td>0.0</td>\n",
       "      <td>0.0</td>\n",
       "    </tr>\n",
       "    <tr>\n",
       "      <th>9</th>\n",
       "      <td>1.0</td>\n",
       "      <td>0.001711</td>\n",
       "      <td>0.085133</td>\n",
       "      <td>0.007259</td>\n",
       "      <td>1.674942</td>\n",
       "      <td>5.417973</td>\n",
       "      <td>0.039807</td>\n",
       "      <td>0.050828</td>\n",
       "      <td>0.001988</td>\n",
       "      <td>0.000832</td>\n",
       "      <td>...</td>\n",
       "      <td>0.0</td>\n",
       "      <td>0.0</td>\n",
       "      <td>1.412737</td>\n",
       "      <td>0.0</td>\n",
       "      <td>0.0</td>\n",
       "      <td>0.0</td>\n",
       "      <td>0.0</td>\n",
       "      <td>0.393913</td>\n",
       "      <td>0.0</td>\n",
       "      <td>0.0</td>\n",
       "    </tr>\n",
       "    <tr>\n",
       "      <th>10</th>\n",
       "      <td>1.0</td>\n",
       "      <td>-0.007174</td>\n",
       "      <td>0.075812</td>\n",
       "      <td>0.005707</td>\n",
       "      <td>1.783382</td>\n",
       "      <td>5.594287</td>\n",
       "      <td>0.032320</td>\n",
       "      <td>0.042511</td>\n",
       "      <td>0.001623</td>\n",
       "      <td>0.000633</td>\n",
       "      <td>...</td>\n",
       "      <td>0.0</td>\n",
       "      <td>0.0</td>\n",
       "      <td>1.491568</td>\n",
       "      <td>0.0</td>\n",
       "      <td>0.0</td>\n",
       "      <td>0.0</td>\n",
       "      <td>0.0</td>\n",
       "      <td>0.254924</td>\n",
       "      <td>0.0</td>\n",
       "      <td>0.0</td>\n",
       "    </tr>\n",
       "  </tbody>\n",
       "</table>\n",
       "<p>10 rows × 635 columns</p>\n",
       "</div>\n",
       "    <div class=\"colab-df-buttons\">\n",
       "\n",
       "  <div class=\"colab-df-container\">\n",
       "    <button class=\"colab-df-convert\" onclick=\"convertToInteractive('df-12a966bf-923d-4447-917b-af49477841cd')\"\n",
       "            title=\"Convert this dataframe to an interactive table.\"\n",
       "            style=\"display:none;\">\n",
       "\n",
       "  <svg xmlns=\"http://www.w3.org/2000/svg\" height=\"24px\" viewBox=\"0 -960 960 960\">\n",
       "    <path d=\"M120-120v-720h720v720H120Zm60-500h600v-160H180v160Zm220 220h160v-160H400v160Zm0 220h160v-160H400v160ZM180-400h160v-160H180v160Zm440 0h160v-160H620v160ZM180-180h160v-160H180v160Zm440 0h160v-160H620v160Z\"/>\n",
       "  </svg>\n",
       "    </button>\n",
       "\n",
       "  <style>\n",
       "    .colab-df-container {\n",
       "      display:flex;\n",
       "      gap: 12px;\n",
       "    }\n",
       "\n",
       "    .colab-df-convert {\n",
       "      background-color: #E8F0FE;\n",
       "      border: none;\n",
       "      border-radius: 50%;\n",
       "      cursor: pointer;\n",
       "      display: none;\n",
       "      fill: #1967D2;\n",
       "      height: 32px;\n",
       "      padding: 0 0 0 0;\n",
       "      width: 32px;\n",
       "    }\n",
       "\n",
       "    .colab-df-convert:hover {\n",
       "      background-color: #E2EBFA;\n",
       "      box-shadow: 0px 1px 2px rgba(60, 64, 67, 0.3), 0px 1px 3px 1px rgba(60, 64, 67, 0.15);\n",
       "      fill: #174EA6;\n",
       "    }\n",
       "\n",
       "    .colab-df-buttons div {\n",
       "      margin-bottom: 4px;\n",
       "    }\n",
       "\n",
       "    [theme=dark] .colab-df-convert {\n",
       "      background-color: #3B4455;\n",
       "      fill: #D2E3FC;\n",
       "    }\n",
       "\n",
       "    [theme=dark] .colab-df-convert:hover {\n",
       "      background-color: #434B5C;\n",
       "      box-shadow: 0px 1px 3px 1px rgba(0, 0, 0, 0.15);\n",
       "      filter: drop-shadow(0px 1px 2px rgba(0, 0, 0, 0.3));\n",
       "      fill: #FFFFFF;\n",
       "    }\n",
       "  </style>\n",
       "\n",
       "    <script>\n",
       "      const buttonEl =\n",
       "        document.querySelector('#df-12a966bf-923d-4447-917b-af49477841cd button.colab-df-convert');\n",
       "      buttonEl.style.display =\n",
       "        google.colab.kernel.accessAllowed ? 'block' : 'none';\n",
       "\n",
       "      async function convertToInteractive(key) {\n",
       "        const element = document.querySelector('#df-12a966bf-923d-4447-917b-af49477841cd');\n",
       "        const dataTable =\n",
       "          await google.colab.kernel.invokeFunction('convertToInteractive',\n",
       "                                                    [key], {});\n",
       "        if (!dataTable) return;\n",
       "\n",
       "        const docLinkHtml = 'Like what you see? Visit the ' +\n",
       "          '<a target=\"_blank\" href=https://colab.research.google.com/notebooks/data_table.ipynb>data table notebook</a>'\n",
       "          + ' to learn more about interactive tables.';\n",
       "        element.innerHTML = '';\n",
       "        dataTable['output_type'] = 'display_data';\n",
       "        await google.colab.output.renderOutput(dataTable, element);\n",
       "        const docLink = document.createElement('div');\n",
       "        docLink.innerHTML = docLinkHtml;\n",
       "        element.appendChild(docLink);\n",
       "      }\n",
       "    </script>\n",
       "  </div>\n",
       "\n",
       "\n",
       "<div id=\"df-5efd21dd-f1e4-42eb-8963-33dc0500c701\">\n",
       "  <button class=\"colab-df-quickchart\" onclick=\"quickchart('df-5efd21dd-f1e4-42eb-8963-33dc0500c701')\"\n",
       "            title=\"Suggest charts\"\n",
       "            style=\"display:none;\">\n",
       "\n",
       "<svg xmlns=\"http://www.w3.org/2000/svg\" height=\"24px\"viewBox=\"0 0 24 24\"\n",
       "     width=\"24px\">\n",
       "    <g>\n",
       "        <path d=\"M19 3H5c-1.1 0-2 .9-2 2v14c0 1.1.9 2 2 2h14c1.1 0 2-.9 2-2V5c0-1.1-.9-2-2-2zM9 17H7v-7h2v7zm4 0h-2V7h2v10zm4 0h-2v-4h2v4z\"/>\n",
       "    </g>\n",
       "</svg>\n",
       "  </button>\n",
       "\n",
       "<style>\n",
       "  .colab-df-quickchart {\n",
       "      --bg-color: #E8F0FE;\n",
       "      --fill-color: #1967D2;\n",
       "      --hover-bg-color: #E2EBFA;\n",
       "      --hover-fill-color: #174EA6;\n",
       "      --disabled-fill-color: #AAA;\n",
       "      --disabled-bg-color: #DDD;\n",
       "  }\n",
       "\n",
       "  [theme=dark] .colab-df-quickchart {\n",
       "      --bg-color: #3B4455;\n",
       "      --fill-color: #D2E3FC;\n",
       "      --hover-bg-color: #434B5C;\n",
       "      --hover-fill-color: #FFFFFF;\n",
       "      --disabled-bg-color: #3B4455;\n",
       "      --disabled-fill-color: #666;\n",
       "  }\n",
       "\n",
       "  .colab-df-quickchart {\n",
       "    background-color: var(--bg-color);\n",
       "    border: none;\n",
       "    border-radius: 50%;\n",
       "    cursor: pointer;\n",
       "    display: none;\n",
       "    fill: var(--fill-color);\n",
       "    height: 32px;\n",
       "    padding: 0;\n",
       "    width: 32px;\n",
       "  }\n",
       "\n",
       "  .colab-df-quickchart:hover {\n",
       "    background-color: var(--hover-bg-color);\n",
       "    box-shadow: 0 1px 2px rgba(60, 64, 67, 0.3), 0 1px 3px 1px rgba(60, 64, 67, 0.15);\n",
       "    fill: var(--button-hover-fill-color);\n",
       "  }\n",
       "\n",
       "  .colab-df-quickchart-complete:disabled,\n",
       "  .colab-df-quickchart-complete:disabled:hover {\n",
       "    background-color: var(--disabled-bg-color);\n",
       "    fill: var(--disabled-fill-color);\n",
       "    box-shadow: none;\n",
       "  }\n",
       "\n",
       "  .colab-df-spinner {\n",
       "    border: 2px solid var(--fill-color);\n",
       "    border-color: transparent;\n",
       "    border-bottom-color: var(--fill-color);\n",
       "    animation:\n",
       "      spin 1s steps(1) infinite;\n",
       "  }\n",
       "\n",
       "  @keyframes spin {\n",
       "    0% {\n",
       "      border-color: transparent;\n",
       "      border-bottom-color: var(--fill-color);\n",
       "      border-left-color: var(--fill-color);\n",
       "    }\n",
       "    20% {\n",
       "      border-color: transparent;\n",
       "      border-left-color: var(--fill-color);\n",
       "      border-top-color: var(--fill-color);\n",
       "    }\n",
       "    30% {\n",
       "      border-color: transparent;\n",
       "      border-left-color: var(--fill-color);\n",
       "      border-top-color: var(--fill-color);\n",
       "      border-right-color: var(--fill-color);\n",
       "    }\n",
       "    40% {\n",
       "      border-color: transparent;\n",
       "      border-right-color: var(--fill-color);\n",
       "      border-top-color: var(--fill-color);\n",
       "    }\n",
       "    60% {\n",
       "      border-color: transparent;\n",
       "      border-right-color: var(--fill-color);\n",
       "    }\n",
       "    80% {\n",
       "      border-color: transparent;\n",
       "      border-right-color: var(--fill-color);\n",
       "      border-bottom-color: var(--fill-color);\n",
       "    }\n",
       "    90% {\n",
       "      border-color: transparent;\n",
       "      border-bottom-color: var(--fill-color);\n",
       "    }\n",
       "  }\n",
       "</style>\n",
       "\n",
       "  <script>\n",
       "    async function quickchart(key) {\n",
       "      const quickchartButtonEl =\n",
       "        document.querySelector('#' + key + ' button');\n",
       "      quickchartButtonEl.disabled = true;  // To prevent multiple clicks.\n",
       "      quickchartButtonEl.classList.add('colab-df-spinner');\n",
       "      try {\n",
       "        const charts = await google.colab.kernel.invokeFunction(\n",
       "            'suggestCharts', [key], {});\n",
       "      } catch (error) {\n",
       "        console.error('Error during call to suggestCharts:', error);\n",
       "      }\n",
       "      quickchartButtonEl.classList.remove('colab-df-spinner');\n",
       "      quickchartButtonEl.classList.add('colab-df-quickchart-complete');\n",
       "    }\n",
       "    (() => {\n",
       "      let quickchartButtonEl =\n",
       "        document.querySelector('#df-5efd21dd-f1e4-42eb-8963-33dc0500c701 button');\n",
       "      quickchartButtonEl.style.display =\n",
       "        google.colab.kernel.accessAllowed ? 'block' : 'none';\n",
       "    })();\n",
       "  </script>\n",
       "</div>\n",
       "    </div>\n",
       "  </div>\n"
      ],
      "application/vnd.google.colaboratory.intrinsic+json": {
       "type": "dataframe",
       "variable_name": "df"
      }
     },
     "metadata": {},
     "execution_count": 8
    }
   ]
  },
  {
   "cell_type": "markdown",
   "source": [
    "# fitting CatBoost"
   ],
   "metadata": {
    "id": "3yFR1Iew0EbC"
   }
  },
  {
   "cell_type": "code",
   "source": [
    "cb_df = pd.read_csv(\"/content/dataset_cbm.csv\")\n",
    "\n",
    "gbm = CatBoostModel(seed=42, device=\"cpu\")"
   ],
   "metadata": {
    "id": "UrKltNwz0Gc8",
    "executionInfo": {
     "status": "ok",
     "timestamp": 1712599165921,
     "user_tz": -180,
     "elapsed": 1086,
     "user": {
      "displayName": "Абубек Альджимаков",
      "userId": "06071230004583428080"
     }
    }
   },
   "execution_count": 10,
   "outputs": []
  },
  {
   "cell_type": "code",
   "source": [
    "gbm.init_data(cb_df, target_column=\"target\", splits=[0.75, 0.1, 0.15], embedding_features=[])"
   ],
   "metadata": {
    "colab": {
     "base_uri": "https://localhost:8080/"
    },
    "id": "4nIzrZHH0e5u",
    "executionInfo": {
     "status": "ok",
     "timestamp": 1712599168955,
     "user_tz": -180,
     "elapsed": 281,
     "user": {
      "displayName": "Абубек Альджимаков",
      "userId": "06071230004583428080"
     }
    },
    "outputId": "cc26400f-2532-465a-85cd-d8178a08b398"
   },
   "execution_count": 11,
   "outputs": [
    {
     "output_type": "stream",
     "name": "stderr",
     "text": [
      "/usr/local/lib/python3.10/dist-packages/pandas/core/series.py:917: RuntimeWarning: invalid value encountered in cast\n",
      "  arr = np.asarray(values, dtype=dtype)\n"
     ]
    }
   ]
  },
  {
   "cell_type": "code",
   "execution_count": null,
   "metadata": {
    "colab": {
     "base_uri": "https://localhost:8080/",
     "height": 590,
     "referenced_widgets": [
      "99d68d3d27d74e0c80fe82467f879c10",
      "624c23dc6e4146ed835f05f3b6896b36",
      "5db64cfb7a514e33856e9cfa4bf95196",
      "6f468ba2b7544896ae7ae3f953697398",
      "afd919e0ac87428baab5f4c4147c5620",
      "133dbab64a6642479b459cf6b65d2d48",
      "e02f1f6123bc4e59b31ed057baf696bb",
      "bfcee331ddec449483ae7387a88cb441",
      "07d5826fcbf74ee79bd6d8f17061ba8a",
      "9db2e289f4a7450985c1f2d3c940ae59",
      "68b785f51a8442c1b8a76337268335f3"
     ]
    },
    "id": "YEUFMtOXUAFl",
    "outputId": "376be2cf-2f9f-481c-e311-f8d9f5f69bdd",
    "executionInfo": {
     "status": "ok",
     "timestamp": 1712581105229,
     "user_tz": -180,
     "elapsed": 2833380,
     "user": {
      "displayName": "Абубек Альджимаков",
      "userId": "06071230004583428080"
     }
    }
   },
   "outputs": [
    {
     "output_type": "stream",
     "name": "stderr",
     "text": [
      "[I 2024-04-08 12:11:12,086] A new study created in memory with name: no-name-0c053556-e4ac-4133-b2a7-6246582d7c94\n"
     ]
    },
    {
     "output_type": "display_data",
     "data": {
      "text/plain": [
       "  0%|          | 0/20 [00:00<?, ?it/s]"
      ],
      "application/vnd.jupyter.widget-view+json": {
       "version_major": 2,
       "version_minor": 0,
       "model_id": "99d68d3d27d74e0c80fe82467f879c10"
      }
     },
     "metadata": {}
    },
    {
     "output_type": "stream",
     "name": "stdout",
     "text": [
      "[I 2024-04-08 12:11:15,852] Trial 0 finished with value: 0.967992240543162 and parameters: {'objective': 'CrossEntropy', 'colsample_bylevel': 0.07858536406599222, 'depth': 2, 'boosting_type': 'Plain', 'bootstrap_type': 'Bernoulli', 'subsample': 0.1408686626948248}. Best is trial 0 with value: 0.967992240543162.\n",
      "[I 2024-04-08 12:11:26,953] Trial 1 finished with value: 0.97265625 and parameters: {'objective': 'Logloss', 'colsample_bylevel': 0.030118379260155828, 'depth': 6, 'boosting_type': 'Plain', 'bootstrap_type': 'Bernoulli', 'subsample': 0.5561660458905046}. Best is trial 1 with value: 0.97265625.\n",
      "[I 2024-04-08 12:12:42,281] Trial 2 finished with value: 0.975609756097561 and parameters: {'objective': 'Logloss', 'colsample_bylevel': 0.042607983947643875, 'depth': 6, 'boosting_type': 'Ordered', 'bootstrap_type': 'Bernoulli', 'subsample': 0.9752328070068176}. Best is trial 2 with value: 0.975609756097561.\n",
      "[I 2024-04-08 12:16:27,918] Trial 3 finished with value: 0.9718172983479106 and parameters: {'objective': 'CrossEntropy', 'colsample_bylevel': 0.09567841141989816, 'depth': 11, 'boosting_type': 'Plain', 'bootstrap_type': 'MVS'}. Best is trial 2 with value: 0.975609756097561.\n",
      "[I 2024-04-08 12:16:38,004] Trial 4 finished with value: 0.975609756097561 and parameters: {'objective': 'Logloss', 'colsample_bylevel': 0.03377121377935482, 'depth': 5, 'boosting_type': 'Plain', 'bootstrap_type': 'MVS'}. Best is trial 2 with value: 0.975609756097561.\n",
      "[I 2024-04-08 12:16:41,212] Trial 5 finished with value: 0.968054211035818 and parameters: {'objective': 'Logloss', 'colsample_bylevel': 0.027836032425486545, 'depth': 2, 'boosting_type': 'Plain', 'bootstrap_type': 'Bayesian', 'bagging_temperature': 5.034142088729556}. Best is trial 2 with value: 0.975609756097561.\n",
      "[I 2024-04-08 12:31:42,888] Trial 6 finished with value: 0.9755620723362658 and parameters: {'objective': 'Logloss', 'colsample_bylevel': 0.07551196990692977, 'depth': 10, 'boosting_type': 'Ordered', 'bootstrap_type': 'Bernoulli', 'subsample': 0.8106346501002736}. Best is trial 2 with value: 0.975609756097561.\n",
      "[I 2024-04-08 12:34:47,563] Trial 7 finished with value: 0.9717624148003894 and parameters: {'objective': 'Logloss', 'colsample_bylevel': 0.024996370861360306, 'depth': 12, 'boosting_type': 'Plain', 'bootstrap_type': 'Bernoulli', 'subsample': 0.13276910343971385}. Best is trial 2 with value: 0.975609756097561.\n",
      "[I 2024-04-08 12:34:58,361] Trial 8 finished with value: 0.9698736637512148 and parameters: {'objective': 'Logloss', 'colsample_bylevel': 0.03729705853352776, 'depth': 1, 'boosting_type': 'Ordered', 'bootstrap_type': 'Bernoulli', 'subsample': 0.47528515936706894}. Best is trial 2 with value: 0.975609756097561.\n",
      "[I 2024-04-08 12:36:23,395] Trial 9 finished with value: 0.9727626459143969 and parameters: {'objective': 'CrossEntropy', 'colsample_bylevel': 0.07479064663727385, 'depth': 8, 'boosting_type': 'Plain', 'bootstrap_type': 'Bayesian', 'bagging_temperature': 0.3476489884810019}. Best is trial 2 with value: 0.975609756097561.\n",
      "[I 2024-04-08 12:37:04,729] Trial 10 finished with value: 0.9679300291545189 and parameters: {'objective': 'CrossEntropy', 'colsample_bylevel': 0.052752760247010116, 'depth': 4, 'boosting_type': 'Ordered', 'bootstrap_type': 'Bayesian', 'bagging_temperature': 9.795712233413393}. Best is trial 2 with value: 0.975609756097561.\n",
      "[I 2024-04-08 12:37:28,562] Trial 11 finished with value: 0.975609756097561 and parameters: {'objective': 'Logloss', 'colsample_bylevel': 0.01313224850022102, 'depth': 5, 'boosting_type': 'Ordered', 'bootstrap_type': 'MVS'}. Best is trial 2 with value: 0.975609756097561.\n",
      "[I 2024-04-08 12:38:58,435] Trial 12 finished with value: 0.974609375 and parameters: {'objective': 'Logloss', 'colsample_bylevel': 0.04980216422027266, 'depth': 7, 'boosting_type': 'Ordered', 'bootstrap_type': 'MVS'}. Best is trial 2 with value: 0.975609756097561.\n",
      "[I 2024-04-08 12:39:30,184] Trial 13 finished with value: 0.9746588693957114 and parameters: {'objective': 'Logloss', 'colsample_bylevel': 0.04480442426193364, 'depth': 4, 'boosting_type': 'Ordered', 'bootstrap_type': 'MVS'}. Best is trial 2 with value: 0.975609756097561.\n",
      "[I 2024-04-08 12:39:51,514] Trial 14 finished with value: 0.9746588693957114 and parameters: {'objective': 'Logloss', 'colsample_bylevel': 0.011240702213304667, 'depth': 9, 'boosting_type': 'Plain', 'bootstrap_type': 'MVS'}. Best is trial 2 with value: 0.975609756097561.\n",
      "[I 2024-04-08 12:41:05,546] Trial 15 finished with value: 0.9765625 and parameters: {'objective': 'Logloss', 'colsample_bylevel': 0.058126756305785225, 'depth': 6, 'boosting_type': 'Ordered', 'bootstrap_type': 'Bernoulli', 'subsample': 0.989684040208239}. Best is trial 15 with value: 0.9765625.\n",
      "[I 2024-04-08 12:42:55,748] Trial 16 finished with value: 0.9736585365853658 and parameters: {'objective': 'Logloss', 'colsample_bylevel': 0.06249305418769272, 'depth': 7, 'boosting_type': 'Ordered', 'bootstrap_type': 'Bernoulli', 'subsample': 0.9131126953620062}. Best is trial 15 with value: 0.9765625.\n",
      "[I 2024-04-08 12:46:37,082] Trial 17 finished with value: 0.9775609756097561 and parameters: {'objective': 'Logloss', 'colsample_bylevel': 0.06862982519841486, 'depth': 8, 'boosting_type': 'Ordered', 'bootstrap_type': 'Bernoulli', 'subsample': 0.9885331636414759}. Best is trial 17 with value: 0.9775609756097561.\n",
      "[I 2024-04-08 12:53:37,664] Trial 18 finished with value: 0.975609756097561 and parameters: {'objective': 'CrossEntropy', 'colsample_bylevel': 0.06486296057640077, 'depth': 9, 'boosting_type': 'Ordered', 'bootstrap_type': 'Bernoulli', 'subsample': 0.7063417918817427}. Best is trial 17 with value: 0.9775609756097561.\n",
      "[I 2024-04-08 12:58:25,315] Trial 19 finished with value: 0.974609375 and parameters: {'objective': 'Logloss', 'colsample_bylevel': 0.0911483021402966, 'depth': 8, 'boosting_type': 'Ordered', 'bootstrap_type': 'Bernoulli', 'subsample': 0.9584966336416083}. Best is trial 17 with value: 0.9775609756097561.\n",
      "Count trial: 20\n",
      "Best metric value: 0.9775609756097561\n",
      "Best trial params: \n",
      "objective: Logloss\n",
      "colsample_bylevel: 0.06862982519841486\n",
      "depth: 8\n",
      "boosting_type: Ordered\n",
      "bootstrap_type: Bernoulli\n",
      "subsample: 0.9885331636414759\n"
     ]
    }
   ],
   "source": [
    "gbm.tune_params(n_trials=20, timeout_study=3600)\n",
    "gbm.get_best_params_optuna()"
   ]
  },
  {
   "cell_type": "code",
   "execution_count": null,
   "metadata": {
    "id": "r6CrJppW9Y7c"
   },
   "outputs": [],
   "source": [
    "gbm.best_optuna_model.save_model(\"/content/optuna50_best.cbm\")"
   ]
  },
  {
   "cell_type": "code",
   "source": [
    "gbm.best_trial.params"
   ],
   "metadata": {
    "colab": {
     "base_uri": "https://localhost:8080/"
    },
    "id": "PqnRGPcSy02S",
    "executionInfo": {
     "status": "ok",
     "timestamp": 1712581202995,
     "user_tz": -180,
     "elapsed": 325,
     "user": {
      "displayName": "Абубек Альджимаков",
      "userId": "06071230004583428080"
     }
    },
    "outputId": "da059295-1238-4205-d8a9-5ce7248c4b55"
   },
   "execution_count": null,
   "outputs": [
    {
     "output_type": "execute_result",
     "data": {
      "text/plain": [
       "{'objective': 'Logloss',\n",
       " 'colsample_bylevel': 0.06862982519841486,\n",
       " 'depth': 8,\n",
       " 'boosting_type': 'Ordered',\n",
       " 'bootstrap_type': 'Bernoulli',\n",
       " 'subsample': 0.9885331636414759}"
      ]
     },
     "metadata": {},
     "execution_count": 75
    }
   ]
  },
  {
   "cell_type": "code",
   "execution_count": null,
   "metadata": {
    "id": "WX1lm-wPA3gM"
   },
   "outputs": [],
   "source": [
    "class_params = gbm.best_trial.params\n",
    "\n",
    "gbm.init_model(parameters=class_params, task=\"classification\")"
   ]
  },
  {
   "cell_type": "code",
   "execution_count": null,
   "metadata": {
    "colab": {
     "base_uri": "https://localhost:8080/"
    },
    "executionInfo": {
     "elapsed": 222909,
     "status": "ok",
     "timestamp": 1712581489649,
     "user": {
      "displayName": "Абубек Альджимаков",
      "userId": "06071230004583428080"
     },
     "user_tz": -180
    },
    "id": "4_zAUjOsC4zx",
    "outputId": "0bf0f197-acd8-4377-988a-a22a9a1604ac"
   },
   "outputs": [
    {
     "output_type": "stream",
     "name": "stdout",
     "text": [
      "Learning rate set to 0.052633\n",
      "0:\tlearn: 0.5805515\ttest: 0.5779505\tbest: 0.5779505 (0)\ttotal: 224ms\tremaining: 3m 43s\n",
      "50:\tlearn: 0.0363867\ttest: 0.0304287\tbest: 0.0304287 (50)\ttotal: 11.8s\tremaining: 3m 40s\n",
      "100:\tlearn: 0.0226356\ttest: 0.0258995\tbest: 0.0258995 (100)\ttotal: 22.6s\tremaining: 3m 21s\n",
      "150:\tlearn: 0.0155648\ttest: 0.0238599\tbest: 0.0238267 (148)\ttotal: 33.3s\tremaining: 3m 6s\n",
      "200:\tlearn: 0.0111168\ttest: 0.0227637\tbest: 0.0226911 (199)\ttotal: 44.7s\tremaining: 2m 57s\n",
      "250:\tlearn: 0.0087817\ttest: 0.0221533\tbest: 0.0221533 (250)\ttotal: 56.1s\tremaining: 2m 47s\n",
      "300:\tlearn: 0.0072226\ttest: 0.0216010\tbest: 0.0216010 (300)\ttotal: 1m 8s\tremaining: 2m 39s\n",
      "350:\tlearn: 0.0064037\ttest: 0.0212882\tbest: 0.0212790 (347)\ttotal: 1m 18s\tremaining: 2m 25s\n",
      "400:\tlearn: 0.0057981\ttest: 0.0209434\tbest: 0.0209327 (397)\ttotal: 1m 30s\tremaining: 2m 14s\n",
      "450:\tlearn: 0.0053008\ttest: 0.0208651\tbest: 0.0208229 (436)\ttotal: 1m 41s\tremaining: 2m 3s\n",
      "500:\tlearn: 0.0047809\ttest: 0.0208561\tbest: 0.0208229 (436)\ttotal: 1m 53s\tremaining: 1m 52s\n",
      "550:\tlearn: 0.0043876\ttest: 0.0205338\tbest: 0.0205338 (550)\ttotal: 2m 3s\tremaining: 1m 40s\n",
      "600:\tlearn: 0.0040594\ttest: 0.0203392\tbest: 0.0203223 (598)\ttotal: 2m 14s\tremaining: 1m 29s\n",
      "650:\tlearn: 0.0037041\ttest: 0.0200800\tbest: 0.0200800 (650)\ttotal: 2m 25s\tremaining: 1m 18s\n",
      "700:\tlearn: 0.0035454\ttest: 0.0199530\tbest: 0.0199490 (698)\ttotal: 2m 37s\tremaining: 1m 7s\n",
      "750:\tlearn: 0.0034399\ttest: 0.0199704\tbest: 0.0199373 (740)\ttotal: 2m 47s\tremaining: 55.7s\n",
      "800:\tlearn: 0.0033074\ttest: 0.0199445\tbest: 0.0199221 (784)\ttotal: 2m 58s\tremaining: 44.3s\n",
      "850:\tlearn: 0.0032177\ttest: 0.0198154\tbest: 0.0198117 (844)\ttotal: 3m 9s\tremaining: 33.2s\n",
      "900:\tlearn: 0.0030837\ttest: 0.0196865\tbest: 0.0196715 (881)\ttotal: 3m 20s\tremaining: 22.1s\n",
      "950:\tlearn: 0.0030041\ttest: 0.0197107\tbest: 0.0196715 (881)\ttotal: 3m 32s\tremaining: 10.9s\n",
      "999:\tlearn: 0.0029429\ttest: 0.0196864\tbest: 0.0196715 (881)\ttotal: 3m 42s\tremaining: 0us\n",
      "\n",
      "bestTest = 0.01967148409\n",
      "bestIteration = 881\n",
      "\n",
      "Shrink model to first 882 iterations.\n",
      "Training Done\n"
     ]
    }
   ],
   "source": [
    "fit_params = {\n",
    "    \"verbose\" : 50,\n",
    "}\n",
    "\n",
    "gbm.fit_model(parameters=fit_params)"
   ]
  },
  {
   "cell_type": "code",
   "execution_count": null,
   "metadata": {
    "colab": {
     "base_uri": "https://localhost:8080/"
    },
    "executionInfo": {
     "elapsed": 270,
     "status": "ok",
     "timestamp": 1712581533519,
     "user": {
      "displayName": "Абубек Альджимаков",
      "userId": "06071230004583428080"
     },
     "user_tz": -180
    },
    "id": "JPOsd3XWI2Yi",
    "outputId": "581deb78-0c20-429d-de0d-8df1db2214d2"
   },
   "outputs": [
    {
     "output_type": "execute_result",
     "data": {
      "text/plain": [
       "{'f1_score': 0.9766536964980543, 'accuracy_score': 0.9846153846153847}"
      ]
     },
     "metadata": {},
     "execution_count": 80
    }
   ],
   "source": [
    "gbm.inference_model(task_type=\"CPU\")"
   ]
  },
  {
   "cell_type": "markdown",
   "source": [
    "## creating confidence interval"
   ],
   "metadata": {
    "id": "iUaj-KUV0xe1"
   }
  },
  {
   "cell_type": "code",
   "source": [
    "mean, bounds = create_conf_interval_gbm(gbm, \"f1_score\", 1000)\n",
    "print()\n",
    "print(f\"mean score: {mean}, lower bound: {bounds[0]}, upper bound: {bounds[1]}\")"
   ],
   "metadata": {
    "id": "V8_iNfuP03lP"
   },
   "execution_count": null,
   "outputs": []
  }
 ]
}
