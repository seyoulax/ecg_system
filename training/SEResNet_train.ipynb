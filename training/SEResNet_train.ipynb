{
  "nbformat": 4,
  "nbformat_minor": 0,
  "metadata": {
    "colab": {
      "provenance": [],
      "gpuType": "T4"
    },
    "kernelspec": {
      "name": "python3",
      "display_name": "Python 3"
    },
    "language_info": {
      "name": "python"
    },
    "accelerator": "GPU",
    "widgets": {
      "application/vnd.jupyter.widget-state+json": {
        "5930a96793af4850bed659cc3df7acba": {
          "model_module": "@jupyter-widgets/controls",
          "model_name": "HBoxModel",
          "model_module_version": "1.5.0",
          "state": {
            "_dom_classes": [],
            "_model_module": "@jupyter-widgets/controls",
            "_model_module_version": "1.5.0",
            "_model_name": "HBoxModel",
            "_view_count": null,
            "_view_module": "@jupyter-widgets/controls",
            "_view_module_version": "1.5.0",
            "_view_name": "HBoxView",
            "box_style": "",
            "children": [
              "IPY_MODEL_c13811cb03614a819f53e661d670c285",
              "IPY_MODEL_a5e22061305a45d9b85ebf75aed79894",
              "IPY_MODEL_0403612e31f74343bd475716decfea6c"
            ],
            "layout": "IPY_MODEL_434a86e9904545f291c4c996f8d29db8"
          }
        },
        "c13811cb03614a819f53e661d670c285": {
          "model_module": "@jupyter-widgets/controls",
          "model_name": "HTMLModel",
          "model_module_version": "1.5.0",
          "state": {
            "_dom_classes": [],
            "_model_module": "@jupyter-widgets/controls",
            "_model_module_version": "1.5.0",
            "_model_name": "HTMLModel",
            "_view_count": null,
            "_view_module": "@jupyter-widgets/controls",
            "_view_module_version": "1.5.0",
            "_view_name": "HTMLView",
            "description": "",
            "description_tooltip": null,
            "layout": "IPY_MODEL_802c5b7022934608b07ccad5667a3de1",
            "placeholder": "​",
            "style": "IPY_MODEL_6d5a03b23d5d40eaa2f8b664236e4275",
            "value": "model.safetensors: 100%"
          }
        },
        "a5e22061305a45d9b85ebf75aed79894": {
          "model_module": "@jupyter-widgets/controls",
          "model_name": "FloatProgressModel",
          "model_module_version": "1.5.0",
          "state": {
            "_dom_classes": [],
            "_model_module": "@jupyter-widgets/controls",
            "_model_module_version": "1.5.0",
            "_model_name": "FloatProgressModel",
            "_view_count": null,
            "_view_module": "@jupyter-widgets/controls",
            "_view_module_version": "1.5.0",
            "_view_name": "ProgressView",
            "bar_style": "success",
            "description": "",
            "description_tooltip": null,
            "layout": "IPY_MODEL_b61f9bbffaf64971949aa3ab09ea7a48",
            "max": 196443336,
            "min": 0,
            "orientation": "horizontal",
            "style": "IPY_MODEL_d8124ccce16e45b4bad32ce5d43a01f5",
            "value": 196443336
          }
        },
        "0403612e31f74343bd475716decfea6c": {
          "model_module": "@jupyter-widgets/controls",
          "model_name": "HTMLModel",
          "model_module_version": "1.5.0",
          "state": {
            "_dom_classes": [],
            "_model_module": "@jupyter-widgets/controls",
            "_model_module_version": "1.5.0",
            "_model_name": "HTMLModel",
            "_view_count": null,
            "_view_module": "@jupyter-widgets/controls",
            "_view_module_version": "1.5.0",
            "_view_name": "HTMLView",
            "description": "",
            "description_tooltip": null,
            "layout": "IPY_MODEL_a690f92102da4aadbfc031e5ee0be71d",
            "placeholder": "​",
            "style": "IPY_MODEL_1233b32f3fdc4f528870fd5d1a05117f",
            "value": " 196M/196M [00:02&lt;00:00, 99.1MB/s]"
          }
        },
        "434a86e9904545f291c4c996f8d29db8": {
          "model_module": "@jupyter-widgets/base",
          "model_name": "LayoutModel",
          "model_module_version": "1.2.0",
          "state": {
            "_model_module": "@jupyter-widgets/base",
            "_model_module_version": "1.2.0",
            "_model_name": "LayoutModel",
            "_view_count": null,
            "_view_module": "@jupyter-widgets/base",
            "_view_module_version": "1.2.0",
            "_view_name": "LayoutView",
            "align_content": null,
            "align_items": null,
            "align_self": null,
            "border": null,
            "bottom": null,
            "display": null,
            "flex": null,
            "flex_flow": null,
            "grid_area": null,
            "grid_auto_columns": null,
            "grid_auto_flow": null,
            "grid_auto_rows": null,
            "grid_column": null,
            "grid_gap": null,
            "grid_row": null,
            "grid_template_areas": null,
            "grid_template_columns": null,
            "grid_template_rows": null,
            "height": null,
            "justify_content": null,
            "justify_items": null,
            "left": null,
            "margin": null,
            "max_height": null,
            "max_width": null,
            "min_height": null,
            "min_width": null,
            "object_fit": null,
            "object_position": null,
            "order": null,
            "overflow": null,
            "overflow_x": null,
            "overflow_y": null,
            "padding": null,
            "right": null,
            "top": null,
            "visibility": null,
            "width": null
          }
        },
        "802c5b7022934608b07ccad5667a3de1": {
          "model_module": "@jupyter-widgets/base",
          "model_name": "LayoutModel",
          "model_module_version": "1.2.0",
          "state": {
            "_model_module": "@jupyter-widgets/base",
            "_model_module_version": "1.2.0",
            "_model_name": "LayoutModel",
            "_view_count": null,
            "_view_module": "@jupyter-widgets/base",
            "_view_module_version": "1.2.0",
            "_view_name": "LayoutView",
            "align_content": null,
            "align_items": null,
            "align_self": null,
            "border": null,
            "bottom": null,
            "display": null,
            "flex": null,
            "flex_flow": null,
            "grid_area": null,
            "grid_auto_columns": null,
            "grid_auto_flow": null,
            "grid_auto_rows": null,
            "grid_column": null,
            "grid_gap": null,
            "grid_row": null,
            "grid_template_areas": null,
            "grid_template_columns": null,
            "grid_template_rows": null,
            "height": null,
            "justify_content": null,
            "justify_items": null,
            "left": null,
            "margin": null,
            "max_height": null,
            "max_width": null,
            "min_height": null,
            "min_width": null,
            "object_fit": null,
            "object_position": null,
            "order": null,
            "overflow": null,
            "overflow_x": null,
            "overflow_y": null,
            "padding": null,
            "right": null,
            "top": null,
            "visibility": null,
            "width": null
          }
        },
        "6d5a03b23d5d40eaa2f8b664236e4275": {
          "model_module": "@jupyter-widgets/controls",
          "model_name": "DescriptionStyleModel",
          "model_module_version": "1.5.0",
          "state": {
            "_model_module": "@jupyter-widgets/controls",
            "_model_module_version": "1.5.0",
            "_model_name": "DescriptionStyleModel",
            "_view_count": null,
            "_view_module": "@jupyter-widgets/base",
            "_view_module_version": "1.2.0",
            "_view_name": "StyleView",
            "description_width": ""
          }
        },
        "b61f9bbffaf64971949aa3ab09ea7a48": {
          "model_module": "@jupyter-widgets/base",
          "model_name": "LayoutModel",
          "model_module_version": "1.2.0",
          "state": {
            "_model_module": "@jupyter-widgets/base",
            "_model_module_version": "1.2.0",
            "_model_name": "LayoutModel",
            "_view_count": null,
            "_view_module": "@jupyter-widgets/base",
            "_view_module_version": "1.2.0",
            "_view_name": "LayoutView",
            "align_content": null,
            "align_items": null,
            "align_self": null,
            "border": null,
            "bottom": null,
            "display": null,
            "flex": null,
            "flex_flow": null,
            "grid_area": null,
            "grid_auto_columns": null,
            "grid_auto_flow": null,
            "grid_auto_rows": null,
            "grid_column": null,
            "grid_gap": null,
            "grid_row": null,
            "grid_template_areas": null,
            "grid_template_columns": null,
            "grid_template_rows": null,
            "height": null,
            "justify_content": null,
            "justify_items": null,
            "left": null,
            "margin": null,
            "max_height": null,
            "max_width": null,
            "min_height": null,
            "min_width": null,
            "object_fit": null,
            "object_position": null,
            "order": null,
            "overflow": null,
            "overflow_x": null,
            "overflow_y": null,
            "padding": null,
            "right": null,
            "top": null,
            "visibility": null,
            "width": null
          }
        },
        "d8124ccce16e45b4bad32ce5d43a01f5": {
          "model_module": "@jupyter-widgets/controls",
          "model_name": "ProgressStyleModel",
          "model_module_version": "1.5.0",
          "state": {
            "_model_module": "@jupyter-widgets/controls",
            "_model_module_version": "1.5.0",
            "_model_name": "ProgressStyleModel",
            "_view_count": null,
            "_view_module": "@jupyter-widgets/base",
            "_view_module_version": "1.2.0",
            "_view_name": "StyleView",
            "bar_color": null,
            "description_width": ""
          }
        },
        "a690f92102da4aadbfc031e5ee0be71d": {
          "model_module": "@jupyter-widgets/base",
          "model_name": "LayoutModel",
          "model_module_version": "1.2.0",
          "state": {
            "_model_module": "@jupyter-widgets/base",
            "_model_module_version": "1.2.0",
            "_model_name": "LayoutModel",
            "_view_count": null,
            "_view_module": "@jupyter-widgets/base",
            "_view_module_version": "1.2.0",
            "_view_name": "LayoutView",
            "align_content": null,
            "align_items": null,
            "align_self": null,
            "border": null,
            "bottom": null,
            "display": null,
            "flex": null,
            "flex_flow": null,
            "grid_area": null,
            "grid_auto_columns": null,
            "grid_auto_flow": null,
            "grid_auto_rows": null,
            "grid_column": null,
            "grid_gap": null,
            "grid_row": null,
            "grid_template_areas": null,
            "grid_template_columns": null,
            "grid_template_rows": null,
            "height": null,
            "justify_content": null,
            "justify_items": null,
            "left": null,
            "margin": null,
            "max_height": null,
            "max_width": null,
            "min_height": null,
            "min_width": null,
            "object_fit": null,
            "object_position": null,
            "order": null,
            "overflow": null,
            "overflow_x": null,
            "overflow_y": null,
            "padding": null,
            "right": null,
            "top": null,
            "visibility": null,
            "width": null
          }
        },
        "1233b32f3fdc4f528870fd5d1a05117f": {
          "model_module": "@jupyter-widgets/controls",
          "model_name": "DescriptionStyleModel",
          "model_module_version": "1.5.0",
          "state": {
            "_model_module": "@jupyter-widgets/controls",
            "_model_module_version": "1.5.0",
            "_model_name": "DescriptionStyleModel",
            "_view_count": null,
            "_view_module": "@jupyter-widgets/base",
            "_view_module_version": "1.2.0",
            "_view_name": "StyleView",
            "description_width": ""
          }
        }
      }
    }
  },
  "cells": [
    {
      "cell_type": "code",
      "execution_count": null,
      "metadata": {
        "id": "xGq-9BdHf8Qz"
      },
      "outputs": [],
      "source": [
        "%%capture\n",
        "!pip install timm torchmetrics wandb neurokit2 focal_loss_torch"
      ]
    },
    {
      "cell_type": "code",
      "source": [
        "# Загрузка датасета\n",
        "%%capture\n",
        "!gdown 1NhdUKxIbUUtmaY5avSUoNjPnEjlZfjF5\n",
        "!unzip \"simple_r_peaks.zip\""
      ],
      "metadata": {
        "id": "-txxNN5TCN6v"
      },
      "execution_count": null,
      "outputs": []
    },
    {
      "cell_type": "code",
      "source": [
        "import numpy as np\n",
        "import torch\n",
        "import pandas as pd\n",
        "import matplotlib.pyplot as ptl\n",
        "import torchmetrics\n",
        "import matplotlib.pyplot as plt\n",
        "\n",
        "from tqdm.auto import tqdm\n",
        "from IPython.display import clear_output\n",
        "\n",
        "from torch.utils.data import DataLoader, Dataset, random_split\n",
        "from torchvision import models, transforms\n",
        "import timm\n",
        "from scipy.signal import resample\n",
        "import neurokit2 as nk\n",
        "from focal_loss.focal_loss import FocalLoss\n",
        "\n",
        "from google.colab import drive\n",
        "drive.mount('/content/drive')\n",
        "\n",
        "device = torch.device(\"cuda\" if torch.cuda.is_available() else \"cpu\")\n",
        "device"
      ],
      "metadata": {
        "id": "aqt8UWSviot7",
        "colab": {
          "base_uri": "https://localhost:8080/"
        },
        "outputId": "c2707b42-1be8-4c7e-e3d6-6e326a9894e1"
      },
      "execution_count": null,
      "outputs": [
        {
          "output_type": "stream",
          "name": "stdout",
          "text": [
            "Drive already mounted at /content/drive; to attempt to forcibly remount, call drive.mount(\"/content/drive\", force_remount=True).\n"
          ]
        },
        {
          "output_type": "execute_result",
          "data": {
            "text/plain": [
              "device(type='cuda')"
            ]
          },
          "metadata": {},
          "execution_count": 3
        }
      ]
    },
    {
      "cell_type": "code",
      "source": [
        "!wandb login 20f90c141c14e3f8e2d80816e21a0960cf446951\n",
        "import wandb\n",
        "\n",
        "\n",
        "wandb.init(\n",
        "    project=\"aiijc_final\",\n",
        "\n",
        "    config={\n",
        "        \"architecture\": \"senresnext\",\n",
        "        \"dataset\": \"simple_r_peaks\",\n",
        "    }\n",
        ")"
      ],
      "metadata": {
        "id": "Eku3lVXpvgjT"
      },
      "execution_count": null,
      "outputs": []
    },
    {
      "cell_type": "code",
      "execution_count": null,
      "metadata": {
        "id": "IN-8XMMUCN6w"
      },
      "outputs": [],
      "source": [
        "data = pd.read_csv('/content/simple_r_peaks/labels.csv', index_col='Unnamed: 0')"
      ]
    },
    {
      "cell_type": "code",
      "execution_count": null,
      "metadata": {
        "id": "7bU8TKwn6cqh"
      },
      "outputs": [],
      "source": [
        "class SignalsDataset(Dataset):\n",
        "    def __init__(self, labels, path='/'):\n",
        "        self.x_paths = [labels.iloc[i, 0] for i in range(len(labels))]\n",
        "        self.labels = [labels.iloc[i, 1] for i in range(len(labels))]\n",
        "        self.path = path\n",
        "\n",
        "    def __len__(self):\n",
        "        return len(self.x_paths)\n",
        "\n",
        "    def __getitem__(self, idx):\n",
        "        hr = torch.tensor(np.load(self.path + self.x_paths[idx] + '.npy'))[None, :, :]\n",
        "\n",
        "        target = self.labels[idx]\n",
        "\n",
        "        return hr, target"
      ]
    },
    {
      "cell_type": "code",
      "source": [
        "dataset = SignalsDataset(data, '/content/simple_r_peaks/signals/')\n",
        "train_data, val_data = random_split(dataset, [0.9, 0.1])\n",
        "\n",
        "batch_size = 64\n",
        "\n",
        "train_loader = DataLoader(train_data, batch_size=batch_size, shuffle=True)\n",
        "val_loader = DataLoader(val_data, batch_size=batch_size, shuffle=True)"
      ],
      "metadata": {
        "id": "9Rqs2lDgPEvN"
      },
      "execution_count": null,
      "outputs": []
    },
    {
      "cell_type": "code",
      "source": [
        "model = timm.create_model('gluon_seresnext101_32x4d' , pretrained=True)\n",
        "\n",
        "model.conv1 = torch.nn.Conv2d(1, 64, kernel_size=(7, 7), stride=(2, 2), padding=(3, 3), bias=False)\n",
        "model.fc = torch.nn.Linear(in_features=2048, out_features=7, bias=True)\n",
        "\n",
        "for param in model.parameters():\n",
        "     param.requires_grad = True\n",
        "\n",
        "model.to(device)\n",
        "None"
      ],
      "metadata": {
        "id": "68HnQbYzj8L6",
        "colab": {
          "base_uri": "https://localhost:8080/",
          "height": 84,
          "referenced_widgets": [
            "5930a96793af4850bed659cc3df7acba",
            "c13811cb03614a819f53e661d670c285",
            "a5e22061305a45d9b85ebf75aed79894",
            "0403612e31f74343bd475716decfea6c",
            "434a86e9904545f291c4c996f8d29db8",
            "802c5b7022934608b07ccad5667a3de1",
            "6d5a03b23d5d40eaa2f8b664236e4275",
            "b61f9bbffaf64971949aa3ab09ea7a48",
            "d8124ccce16e45b4bad32ce5d43a01f5",
            "a690f92102da4aadbfc031e5ee0be71d",
            "1233b32f3fdc4f528870fd5d1a05117f"
          ]
        },
        "outputId": "e620f3ed-cdd7-44aa-a9d6-2400b42dd31d"
      },
      "execution_count": null,
      "outputs": [
        {
          "output_type": "stream",
          "name": "stderr",
          "text": [
            "/usr/local/lib/python3.10/dist-packages/timm/models/_factory.py:114: UserWarning: Mapping deprecated model name gluon_seresnext101_32x4d to current seresnext101_32x4d.gluon_in1k.\n",
            "  model = create_fn(\n"
          ]
        },
        {
          "output_type": "display_data",
          "data": {
            "text/plain": [
              "model.safetensors:   0%|          | 0.00/196M [00:00<?, ?B/s]"
            ],
            "application/vnd.jupyter.widget-view+json": {
              "version_major": 2,
              "version_minor": 0,
              "model_id": "5930a96793af4850bed659cc3df7acba"
            }
          },
          "metadata": {}
        }
      ]
    },
    {
      "cell_type": "code",
      "source": [
        "loss_fn = FocalLoss(gamma=2)\n",
        "\n",
        "lr = 3e-4\n",
        "optimizer = torch.optim.Adam(model.parameters(), lr=lr)\n",
        "scheduler = torch.optim.lr_scheduler.ReduceLROnPlateau(optimizer)"
      ],
      "metadata": {
        "id": "IH2Plc-MblmQ"
      },
      "execution_count": null,
      "outputs": []
    },
    {
      "cell_type": "code",
      "source": [
        "def train(model, scheduler, optimizer, loss_fn, n_epoch=3, device='cuda'):\n",
        "    train_losses = []\n",
        "    val_losses = []\n",
        "    train_acc = []\n",
        "    val_acc = []\n",
        "    val_f1 = []\n",
        "\n",
        "    max_f1 = 0\n",
        "\n",
        "    val_accuracy, val_loss, val_f1_score = evaluate(model, val_loader, loss_fn=loss_fn, device=device)\n",
        "    wandb.log({\"F1\": val_f1_score, \"Acc\": val_accuracy, 'loss': val_loss})\n",
        "\n",
        "    for epoch in range(n_epoch):\n",
        "        print(\"Epoch:\", epoch+1)\n",
        "\n",
        "        model = model.train()\n",
        "        for batch in tqdm(train_loader):\n",
        "            X_batch, y_batch = batch\n",
        "            X_batch, y_batch = X_batch.to(device), y_batch.to(device)\n",
        "\n",
        "            logits = model(X_batch.float())\n",
        "\n",
        "            logits = torch.nn.functional.softmax(logits, dim=1)\n",
        "\n",
        "            loss = loss_fn(logits, y_batch.to(torch.int64))\n",
        "\n",
        "            loss.backward()\n",
        "            optimizer.step()\n",
        "            optimizer.zero_grad()\n",
        "\n",
        "            train_losses.append(loss.item())\n",
        "\n",
        "            model_answers = torch.argmax(logits, dim=1).to(torch.int64)\n",
        "\n",
        "            train_accuracy = torch.sum(y_batch == model_answers) / len(y_batch)\n",
        "            train_acc.append(train_accuracy.item())\n",
        "\n",
        "\n",
        "        model.eval()\n",
        "\n",
        "        val_accuracy, val_loss, val_f1_score = evaluate(model, val_loader, loss_fn=loss_fn, device=device)\n",
        "        wandb.log({\"F1\": val_f1_score, \"Acc\": val_accuracy, 'loss': val_loss})\n",
        "        clear_output(wait=True)\n",
        "\n",
        "        if max_f1 < val_f1_score:\n",
        "            max_f1 = val_f1_score\n",
        "            torch.save(model.state_dict(), f'/content/drive/MyDrive/aiijc/models/se_resnext__f1:{val_f1_score:.4f}_5000.pth')\n",
        "\n",
        "        val_losses.append(val_loss.item())\n",
        "        val_acc.append(val_accuracy)\n",
        "\n",
        "        scheduler.step(val_loss)\n",
        "\n",
        "def evaluate(model, dataloader, loss_fn, device):\n",
        "    losses = []\n",
        "    num_correct = 0\n",
        "    num_elements = 0\n",
        "    f1 = torchmetrics.F1Score(task='multiclass', num_classes=7)\n",
        "    f1_score = 0\n",
        "\n",
        "    model = model.eval()\n",
        "    for batch in tqdm(dataloader):\n",
        "        X_batch, y_batch = batch\n",
        "        X_batch, y_batch = X_batch.to(device), y_batch.to(device).float()\n",
        "\n",
        "        with torch.no_grad():\n",
        "            logits = model(X_batch.float())\n",
        "\n",
        "            logits = torch.nn.functional.softmax(logits, dim=1)\n",
        "\n",
        "            loss = loss_fn(logits, y_batch.to(torch.int64))\n",
        "            losses.append(loss.item())\n",
        "\n",
        "            y_pred = torch.argmax(logits, dim=1).to(torch.int64)\n",
        "\n",
        "            f1_score += f1(y_pred.cpu(), y_batch.cpu())\n",
        "\n",
        "            num_elements += len(y_batch)\n",
        "            num_correct += torch.sum(y_pred == y_batch)\n",
        "\n",
        "    accuracy = num_correct / num_elements\n",
        "    f1_score = f1_score / len(dataloader)\n",
        "\n",
        "    return accuracy.item(), np.mean(losses), f1_score.item()"
      ],
      "metadata": {
        "id": "s4PJbSsuwYsg"
      },
      "execution_count": null,
      "outputs": []
    },
    {
      "cell_type": "code",
      "source": [
        "train(model=model, scheduler=scheduler, optimizer=optimizer, loss_fn=loss_fn, n_epoch=40, device=device)"
      ],
      "metadata": {
        "id": "sCJPJuayGe1X"
      },
      "execution_count": null,
      "outputs": []
    },
    {
      "cell_type": "code",
      "source": [],
      "metadata": {
        "id": "8Gq-9SKMfXhZ"
      },
      "execution_count": null,
      "outputs": []
    }
  ]
}